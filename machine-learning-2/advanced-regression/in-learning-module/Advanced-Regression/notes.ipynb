{
 "cells": [
  {
   "cell_type": "markdown",
   "metadata": {},
   "source": [
    "## Simple linear regression"
   ]
  },
  {
   "cell_type": "markdown",
   "metadata": {},
   "source": [
    "- simple linear regression formula: $y_i = \\beta_0 + \\beta_1 x_i + \\epsilon_i$ or $\\hat{y}_i = \\beta_0 + \\beta_1 x_i$\n",
    "- error term aka residuals: $\\epsilon_i = y_i - \\hat{y}_i$\n",
    "- Residual sum of squares (RSS): $\\sum_{i = 1}^{n} (\\epsilon_i)^2$ OR $\\sum_{i = 1}^{n} (y_i - \\hat{y}_i)^2$\n",
    "- Mean square error (MSE) = $\\frac{RSS}{n}$ OR $\\frac{\\sum_{i = 1}^{n} (\\epsilon_i)^2}{n}$ OR $\\frac{\\sum_{i = 1}^{n} (y_i - \\hat{y}_i)^2}{n}$\n",
    "- Root mean square error (RMSE) or Cost = $\\sqrt{\\frac{RSS}{n}}$ OR $\\sqrt{\\frac{\\sum_{i = 1}^{n} (\\epsilon_i)^2}{n}}$ OR $\\sqrt{\\frac{\\sum_{i = 1}^{n} (y_i - \\hat{y}_i)^2}{n}}$"
   ]
  },
  {
   "cell_type": "code",
   "execution_count": 1,
   "metadata": {},
   "outputs": [],
   "source": [
    "import numpy as np\n",
    "import pandas as pd\n",
    "import matplotlib.pyplot as plt\n",
    "import seaborn as sns\n",
    "from sklearn.linear_model import LinearRegression\n",
    "from sklearn.metrics import r2_score, mean_squared_error"
   ]
  },
  {
   "cell_type": "code",
   "execution_count": null,
   "metadata": {},
   "outputs": [],
   "source": []
  }
 ],
 "metadata": {
  "kernelspec": {
   "display_name": ".aimlenv",
   "language": "python",
   "name": ".aimlenv"
  },
  "language_info": {
   "codemirror_mode": {
    "name": "ipython",
    "version": 3
   },
   "file_extension": ".py",
   "mimetype": "text/x-python",
   "name": "python",
   "nbconvert_exporter": "python",
   "pygments_lexer": "ipython3",
   "version": "3.11.2"
  }
 },
 "nbformat": 4,
 "nbformat_minor": 2
}
