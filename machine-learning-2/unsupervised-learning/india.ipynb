{
 "cells": [
  {
   "cell_type": "code",
   "execution_count": 236,
   "metadata": {},
   "outputs": [],
   "source": [
    "import numpy as np\n",
    "import pandas as pd\n",
    "import matplotlib.pyplot as plt\n",
    "import seaborn as sns"
   ]
  },
  {
   "cell_type": "code",
   "execution_count": 237,
   "metadata": {},
   "outputs": [],
   "source": [
    "inp0 = pd.read_excel('Main.xlsx')"
   ]
  },
  {
   "cell_type": "code",
   "execution_count": 238,
   "metadata": {},
   "outputs": [],
   "source": [
    "inp1 = inp0.drop(columns=['Area Name'])"
   ]
  },
  {
   "cell_type": "code",
   "execution_count": 239,
   "metadata": {},
   "outputs": [
    {
     "data": {
      "text/html": [
       "<div>\n",
       "<style scoped>\n",
       "    .dataframe tbody tr th:only-of-type {\n",
       "        vertical-align: middle;\n",
       "    }\n",
       "\n",
       "    .dataframe tbody tr th {\n",
       "        vertical-align: top;\n",
       "    }\n",
       "\n",
       "    .dataframe thead tr th {\n",
       "        text-align: left;\n",
       "    }\n",
       "</style>\n",
       "<table border=\"1\" class=\"dataframe\">\n",
       "  <thead>\n",
       "    <tr>\n",
       "      <th></th>\n",
       "      <th>Illiterate</th>\n",
       "      <th>Graduate &amp; above</th>\n",
       "      <th>Total - Population</th>\n",
       "      <th>Percentage Illiterate</th>\n",
       "      <th>Percentage Graduate &amp; above</th>\n",
       "    </tr>\n",
       "  </thead>\n",
       "  <tbody>\n",
       "    <tr>\n",
       "      <th>0</th>\n",
       "      <td>-0.384782</td>\n",
       "      <td>-0.500111</td>\n",
       "      <td>-0.503383</td>\n",
       "      <td>1.203902</td>\n",
       "      <td>-0.250185</td>\n",
       "    </tr>\n",
       "    <tr>\n",
       "      <th>1</th>\n",
       "      <td>-0.600888</td>\n",
       "      <td>-0.585328</td>\n",
       "      <td>-0.632950</td>\n",
       "      <td>-1.067532</td>\n",
       "      <td>0.256526</td>\n",
       "    </tr>\n",
       "    <tr>\n",
       "      <th>2</th>\n",
       "      <td>-0.249850</td>\n",
       "      <td>-0.069368</td>\n",
       "      <td>-0.156405</td>\n",
       "      <td>-0.438373</td>\n",
       "      <td>0.029016</td>\n",
       "    </tr>\n",
       "    <tr>\n",
       "      <th>3</th>\n",
       "      <td>-0.671456</td>\n",
       "      <td>-0.713421</td>\n",
       "      <td>-0.765541</td>\n",
       "      <td>-0.616716</td>\n",
       "      <td>3.154645</td>\n",
       "    </tr>\n",
       "    <tr>\n",
       "      <th>4</th>\n",
       "      <td>-0.514483</td>\n",
       "      <td>-0.398717</td>\n",
       "      <td>-0.559417</td>\n",
       "      <td>-0.171623</td>\n",
       "      <td>1.053547</td>\n",
       "    </tr>\n",
       "  </tbody>\n",
       "</table>\n",
       "</div>"
      ],
      "text/plain": [
       "  Illiterate Graduate & above Total - Population Percentage Illiterate  \\\n",
       "0  -0.384782        -0.500111          -0.503383              1.203902   \n",
       "1  -0.600888        -0.585328          -0.632950             -1.067532   \n",
       "2  -0.249850        -0.069368          -0.156405             -0.438373   \n",
       "3  -0.671456        -0.713421          -0.765541             -0.616716   \n",
       "4  -0.514483        -0.398717          -0.559417             -0.171623   \n",
       "\n",
       "  Percentage Graduate & above  \n",
       "0                   -0.250185  \n",
       "1                    0.256526  \n",
       "2                    0.029016  \n",
       "3                    3.154645  \n",
       "4                    1.053547  "
      ]
     },
     "execution_count": 239,
     "metadata": {},
     "output_type": "execute_result"
    }
   ],
   "source": [
    "from sklearn.preprocessing import StandardScaler\n",
    "\n",
    "scaler = StandardScaler()\n",
    "\n",
    "data_scaled = scaler.fit_transform(inp1)\n",
    "data_scaled = pd.DataFrame(data_scaled, columns=[inp1.columns])\n",
    "data_scaled.head()"
   ]
  },
  {
   "cell_type": "code",
   "execution_count": 240,
   "metadata": {},
   "outputs": [],
   "source": [
    "from sklearn.cluster import KMeans\n",
    "from sklearn.metrics import silhouette_score\n",
    "\n",
    "def try_kmeans(input_data):\n",
    "    # elbow curve/SSD\n",
    "    print(f'doing kmeans for {input_data.columns}')\n",
    "    ssd = []\n",
    "    for cluster in [2,3,4,5,6,7,8]:\n",
    "        kmeans = KMeans(n_clusters=cluster, max_iter=50, random_state=100)\n",
    "        kmeans.fit(input_data)\n",
    "\n",
    "        ssd.append(kmeans.inertia_)\n",
    "\n",
    "    plt.plot(ssd)\n",
    "    plt.show()\n",
    "\n",
    "    print(f'ssd : {ssd}')\n",
    "\n",
    "    # silhouette_score\n",
    "    for cluster in [2,3,4,5,6,7,8]:\n",
    "        kmeans = KMeans(n_clusters=cluster, max_iter=50)\n",
    "        kmeans.fit(input_data)\n",
    "\n",
    "        cluster_labels = kmeans.labels_\n",
    "\n",
    "        score = silhouette_score(input_data, cluster_labels)\n",
    "        print(f'For n_clusters = {cluster}, the silhouette score is {score}')\n",
    "\n"
   ]
  },
  {
   "cell_type": "code",
   "execution_count": 241,
   "metadata": {},
   "outputs": [
    {
     "data": {
      "text/plain": [
       "MultiIndex([(                 'Illiterate',),\n",
       "            (           'Graduate & above',),\n",
       "            (         'Total - Population',),\n",
       "            (      'Percentage Illiterate',),\n",
       "            ('Percentage Graduate & above',)],\n",
       "           )"
      ]
     },
     "execution_count": 241,
     "metadata": {},
     "output_type": "execute_result"
    }
   ],
   "source": [
    "data_scaled.columns"
   ]
  },
  {
   "cell_type": "code",
   "execution_count": 242,
   "metadata": {},
   "outputs": [
    {
     "name": "stdout",
     "output_type": "stream",
     "text": [
      "doing kmeans for MultiIndex([(      'Illiterate',),\n",
      "            ('Graduate & above',)],\n",
      "           )\n"
     ]
    },
    {
     "data": {
      "image/png": "[encoded data removed]",
      "text/plain": [
       "<Figure size 640x480 with 1 Axes>"
      ]
     },
     "metadata": {},
     "output_type": "display_data"
    },
    {
     "name": "stdout",
     "output_type": "stream",
     "text": [
      "ssd : [40.35231320824792, 12.576763873077383, 9.110491048574872, 5.172462659885678, 2.5535231341166753, 1.9920406007542664, 1.560558262131956]\n",
      "For n_clusters = 2, the silhouette score is 0.6416710515969056\n",
      "For n_clusters = 3, the silhouette score is 0.6245835778515838\n",
      "For n_clusters = 4, the silhouette score is 0.628686272538507\n",
      "For n_clusters = 5, the silhouette score is 0.5756661411322342\n",
      "For n_clusters = 6, the silhouette score is 0.611683079628388\n",
      "For n_clusters = 7, the silhouette score is 0.6164849170475957\n",
      "For n_clusters = 8, the silhouette score is 0.6041119082028533\n"
     ]
    }
   ],
   "source": [
    "data = data_scaled[[\n",
    "    'Illiterate',\n",
    "    'Graduate & above'\n",
    "]]\n",
    "try_kmeans(data)"
   ]
  },
  {
   "cell_type": "code",
   "execution_count": 243,
   "metadata": {},
   "outputs": [
    {
     "data": {
      "text/html": [
       "<div>\n",
       "<style scoped>\n",
       "    .dataframe tbody tr th:only-of-type {\n",
       "        vertical-align: middle;\n",
       "    }\n",
       "\n",
       "    .dataframe tbody tr th {\n",
       "        vertical-align: top;\n",
       "    }\n",
       "\n",
       "    .dataframe thead tr th {\n",
       "        text-align: left;\n",
       "    }\n",
       "</style>\n",
       "<table border=\"1\" class=\"dataframe\">\n",
       "  <thead>\n",
       "    <tr>\n",
       "      <th></th>\n",
       "      <th>Illiterate</th>\n",
       "      <th>Graduate &amp; above</th>\n",
       "      <th>Total - Population</th>\n",
       "      <th>Percentage Illiterate</th>\n",
       "      <th>Percentage Graduate &amp; above</th>\n",
       "    </tr>\n",
       "  </thead>\n",
       "  <tbody>\n",
       "    <tr>\n",
       "      <th>0</th>\n",
       "      <td>-0.384782</td>\n",
       "      <td>-0.500111</td>\n",
       "      <td>-0.503383</td>\n",
       "      <td>1.203902</td>\n",
       "      <td>-0.250185</td>\n",
       "    </tr>\n",
       "    <tr>\n",
       "      <th>1</th>\n",
       "      <td>-0.600888</td>\n",
       "      <td>-0.585328</td>\n",
       "      <td>-0.632950</td>\n",
       "      <td>-1.067532</td>\n",
       "      <td>0.256526</td>\n",
       "    </tr>\n",
       "    <tr>\n",
       "      <th>2</th>\n",
       "      <td>-0.249850</td>\n",
       "      <td>-0.069368</td>\n",
       "      <td>-0.156405</td>\n",
       "      <td>-0.438373</td>\n",
       "      <td>0.029016</td>\n",
       "    </tr>\n",
       "    <tr>\n",
       "      <th>3</th>\n",
       "      <td>-0.671456</td>\n",
       "      <td>-0.713421</td>\n",
       "      <td>-0.765541</td>\n",
       "      <td>-0.616716</td>\n",
       "      <td>3.154645</td>\n",
       "    </tr>\n",
       "    <tr>\n",
       "      <th>4</th>\n",
       "      <td>-0.514483</td>\n",
       "      <td>-0.398717</td>\n",
       "      <td>-0.559417</td>\n",
       "      <td>-0.171623</td>\n",
       "      <td>1.053547</td>\n",
       "    </tr>\n",
       "  </tbody>\n",
       "</table>\n",
       "</div>"
      ],
      "text/plain": [
       "  Illiterate Graduate & above Total - Population Percentage Illiterate  \\\n",
       "0  -0.384782        -0.500111          -0.503383              1.203902   \n",
       "1  -0.600888        -0.585328          -0.632950             -1.067532   \n",
       "2  -0.249850        -0.069368          -0.156405             -0.438373   \n",
       "3  -0.671456        -0.713421          -0.765541             -0.616716   \n",
       "4  -0.514483        -0.398717          -0.559417             -0.171623   \n",
       "\n",
       "  Percentage Graduate & above  \n",
       "0                   -0.250185  \n",
       "1                    0.256526  \n",
       "2                    0.029016  \n",
       "3                    3.154645  \n",
       "4                    1.053547  "
      ]
     },
     "execution_count": 243,
     "metadata": {},
     "output_type": "execute_result"
    }
   ],
   "source": [
    "data_scaled.head()"
   ]
  },
  {
   "cell_type": "code",
   "execution_count": 244,
   "metadata": {},
   "outputs": [
    {
     "name": "stdout",
     "output_type": "stream",
     "text": [
      "doing kmeans for MultiIndex([(        'Illiterate',),\n",
      "            ('Total - Population',)],\n",
      "           )\n"
     ]
    },
    {
     "data": {
      "image/png": "[encoded data removed]",
      "text/plain": [
       "<Figure size 640x480 with 1 Axes>"
      ]
     },
     "metadata": {},
     "output_type": "display_data"
    },
    {
     "name": "stdout",
     "output_type": "stream",
     "text": [
      "ssd : [31.70926390493588, 9.805589376884857, 4.992535312209743, 2.8740734691945935, 1.5903511043652483, 0.9253962948794741, 0.5779995200026016]\n",
      "For n_clusters = 2, the silhouette score is 0.6743882416452761\n",
      "For n_clusters = 3, the silhouette score is 0.6811318429052298\n",
      "For n_clusters = 4, the silhouette score is 0.6556463050328007\n",
      "For n_clusters = 5, the silhouette score is 0.615239523779474\n",
      "For n_clusters = 6, the silhouette score is 0.6088905987980683\n",
      "For n_clusters = 7, the silhouette score is 0.63795495389514\n",
      "For n_clusters = 8, the silhouette score is 0.6233709423768333\n"
     ]
    }
   ],
   "source": [
    "data = data_scaled[[\n",
    "    'Illiterate',\n",
    "    'Total - Population'\n",
    "]]\n",
    "try_kmeans(data)"
   ]
  },
  {
   "cell_type": "code",
   "execution_count": 245,
   "metadata": {},
   "outputs": [
    {
     "data": {
      "text/html": [
       "<div>\n",
       "<style scoped>\n",
       "    .dataframe tbody tr th:only-of-type {\n",
       "        vertical-align: middle;\n",
       "    }\n",
       "\n",
       "    .dataframe tbody tr th {\n",
       "        vertical-align: top;\n",
       "    }\n",
       "\n",
       "    .dataframe thead tr th {\n",
       "        text-align: left;\n",
       "    }\n",
       "</style>\n",
       "<table border=\"1\" class=\"dataframe\">\n",
       "  <thead>\n",
       "    <tr>\n",
       "      <th></th>\n",
       "      <th>Illiterate</th>\n",
       "      <th>Graduate &amp; above</th>\n",
       "      <th>Total - Population</th>\n",
       "      <th>Percentage Illiterate</th>\n",
       "      <th>Percentage Graduate &amp; above</th>\n",
       "    </tr>\n",
       "  </thead>\n",
       "  <tbody>\n",
       "    <tr>\n",
       "      <th>0</th>\n",
       "      <td>-0.384782</td>\n",
       "      <td>-0.500111</td>\n",
       "      <td>-0.503383</td>\n",
       "      <td>1.203902</td>\n",
       "      <td>-0.250185</td>\n",
       "    </tr>\n",
       "    <tr>\n",
       "      <th>1</th>\n",
       "      <td>-0.600888</td>\n",
       "      <td>-0.585328</td>\n",
       "      <td>-0.632950</td>\n",
       "      <td>-1.067532</td>\n",
       "      <td>0.256526</td>\n",
       "    </tr>\n",
       "    <tr>\n",
       "      <th>2</th>\n",
       "      <td>-0.249850</td>\n",
       "      <td>-0.069368</td>\n",
       "      <td>-0.156405</td>\n",
       "      <td>-0.438373</td>\n",
       "      <td>0.029016</td>\n",
       "    </tr>\n",
       "    <tr>\n",
       "      <th>3</th>\n",
       "      <td>-0.671456</td>\n",
       "      <td>-0.713421</td>\n",
       "      <td>-0.765541</td>\n",
       "      <td>-0.616716</td>\n",
       "      <td>3.154645</td>\n",
       "    </tr>\n",
       "    <tr>\n",
       "      <th>4</th>\n",
       "      <td>-0.514483</td>\n",
       "      <td>-0.398717</td>\n",
       "      <td>-0.559417</td>\n",
       "      <td>-0.171623</td>\n",
       "      <td>1.053547</td>\n",
       "    </tr>\n",
       "  </tbody>\n",
       "</table>\n",
       "</div>"
      ],
      "text/plain": [
       "  Illiterate Graduate & above Total - Population Percentage Illiterate  \\\n",
       "0  -0.384782        -0.500111          -0.503383              1.203902   \n",
       "1  -0.600888        -0.585328          -0.632950             -1.067532   \n",
       "2  -0.249850        -0.069368          -0.156405             -0.438373   \n",
       "3  -0.671456        -0.713421          -0.765541             -0.616716   \n",
       "4  -0.514483        -0.398717          -0.559417             -0.171623   \n",
       "\n",
       "  Percentage Graduate & above  \n",
       "0                   -0.250185  \n",
       "1                    0.256526  \n",
       "2                    0.029016  \n",
       "3                    3.154645  \n",
       "4                    1.053547  "
      ]
     },
     "execution_count": 245,
     "metadata": {},
     "output_type": "execute_result"
    }
   ],
   "source": [
    "data_scaled.head()"
   ]
  },
  {
   "cell_type": "code",
   "execution_count": 246,
   "metadata": {},
   "outputs": [
    {
     "name": "stdout",
     "output_type": "stream",
     "text": [
      "doing kmeans for MultiIndex([(           'Illiterate',),\n",
      "            ('Percentage Illiterate',)],\n",
      "           )\n"
     ]
    },
    {
     "data": {
      "image/png": "[encoded data removed]",
      "text/plain": [
       "<Figure size 640x480 with 1 Axes>"
      ]
     },
     "metadata": {},
     "output_type": "display_data"
    },
    {
     "name": "stdout",
     "output_type": "stream",
     "text": [
      "ssd : [38.86533279406174, 20.38650579959077, 13.888697151134563, 9.770540431654187, 7.64478630915871, 5.1389929783446515, 4.453283292365523]\n",
      "For n_clusters = 2, the silhouette score is 0.64674078845413\n",
      "For n_clusters = 3, the silhouette score is 0.4161558219499128\n",
      "For n_clusters = 4, the silhouette score is 0.4010195018088514\n",
      "For n_clusters = 5, the silhouette score is 0.42032068674871653\n",
      "For n_clusters = 6, the silhouette score is 0.44129289805358485\n",
      "For n_clusters = 7, the silhouette score is 0.3721447213388409\n",
      "For n_clusters = 8, the silhouette score is 0.3965950890769381\n"
     ]
    }
   ],
   "source": [
    "data = data_scaled[[\n",
    "    'Illiterate',\n",
    "    'Percentage Illiterate'\n",
    "]]\n",
    "try_kmeans(data)"
   ]
  },
  {
   "cell_type": "code",
   "execution_count": 247,
   "metadata": {},
   "outputs": [
    {
     "data": {
      "text/html": [
       "<div>\n",
       "<style scoped>\n",
       "    .dataframe tbody tr th:only-of-type {\n",
       "        vertical-align: middle;\n",
       "    }\n",
       "\n",
       "    .dataframe tbody tr th {\n",
       "        vertical-align: top;\n",
       "    }\n",
       "\n",
       "    .dataframe thead tr th {\n",
       "        text-align: left;\n",
       "    }\n",
       "</style>\n",
       "<table border=\"1\" class=\"dataframe\">\n",
       "  <thead>\n",
       "    <tr>\n",
       "      <th></th>\n",
       "      <th>Illiterate</th>\n",
       "      <th>Graduate &amp; above</th>\n",
       "      <th>Total - Population</th>\n",
       "      <th>Percentage Illiterate</th>\n",
       "      <th>Percentage Graduate &amp; above</th>\n",
       "    </tr>\n",
       "  </thead>\n",
       "  <tbody>\n",
       "    <tr>\n",
       "      <th>0</th>\n",
       "      <td>-0.384782</td>\n",
       "      <td>-0.500111</td>\n",
       "      <td>-0.503383</td>\n",
       "      <td>1.203902</td>\n",
       "      <td>-0.250185</td>\n",
       "    </tr>\n",
       "    <tr>\n",
       "      <th>1</th>\n",
       "      <td>-0.600888</td>\n",
       "      <td>-0.585328</td>\n",
       "      <td>-0.632950</td>\n",
       "      <td>-1.067532</td>\n",
       "      <td>0.256526</td>\n",
       "    </tr>\n",
       "    <tr>\n",
       "      <th>2</th>\n",
       "      <td>-0.249850</td>\n",
       "      <td>-0.069368</td>\n",
       "      <td>-0.156405</td>\n",
       "      <td>-0.438373</td>\n",
       "      <td>0.029016</td>\n",
       "    </tr>\n",
       "    <tr>\n",
       "      <th>3</th>\n",
       "      <td>-0.671456</td>\n",
       "      <td>-0.713421</td>\n",
       "      <td>-0.765541</td>\n",
       "      <td>-0.616716</td>\n",
       "      <td>3.154645</td>\n",
       "    </tr>\n",
       "    <tr>\n",
       "      <th>4</th>\n",
       "      <td>-0.514483</td>\n",
       "      <td>-0.398717</td>\n",
       "      <td>-0.559417</td>\n",
       "      <td>-0.171623</td>\n",
       "      <td>1.053547</td>\n",
       "    </tr>\n",
       "  </tbody>\n",
       "</table>\n",
       "</div>"
      ],
      "text/plain": [
       "  Illiterate Graduate & above Total - Population Percentage Illiterate  \\\n",
       "0  -0.384782        -0.500111          -0.503383              1.203902   \n",
       "1  -0.600888        -0.585328          -0.632950             -1.067532   \n",
       "2  -0.249850        -0.069368          -0.156405             -0.438373   \n",
       "3  -0.671456        -0.713421          -0.765541             -0.616716   \n",
       "4  -0.514483        -0.398717          -0.559417             -0.171623   \n",
       "\n",
       "  Percentage Graduate & above  \n",
       "0                   -0.250185  \n",
       "1                    0.256526  \n",
       "2                    0.029016  \n",
       "3                    3.154645  \n",
       "4                    1.053547  "
      ]
     },
     "execution_count": 247,
     "metadata": {},
     "output_type": "execute_result"
    }
   ],
   "source": [
    "data_scaled.head()"
   ]
  },
  {
   "cell_type": "code",
   "execution_count": 248,
   "metadata": {},
   "outputs": [
    {
     "name": "stdout",
     "output_type": "stream",
     "text": [
      "doing kmeans for MultiIndex([(                 'Illiterate',),\n",
      "            ('Percentage Graduate & above',)],\n",
      "           )\n"
     ]
    },
    {
     "data": {
      "image/png": "[encoded data removed]",
      "text/plain": [
       "<Figure size 640x480 with 1 Axes>"
      ]
     },
     "metadata": {},
     "output_type": "display_data"
    },
    {
     "name": "stdout",
     "output_type": "stream",
     "text": [
      "ssd : [46.20726901588206, 25.267889446792932, 15.893657004875198, 13.58799910144101, 11.706305411773823, 6.885327272921443, 4.328231368563417]\n",
      "For n_clusters = 2, the silhouette score is 0.36372795157466686\n",
      "For n_clusters = 3, the silhouette score is 0.5121715370477142\n",
      "For n_clusters = 4, the silhouette score is 0.35740931282032157\n",
      "For n_clusters = 5, the silhouette score is 0.3757723143883403\n",
      "For n_clusters = 6, the silhouette score is 0.39052595752464575\n",
      "For n_clusters = 7, the silhouette score is 0.3774959710205348\n",
      "For n_clusters = 8, the silhouette score is 0.41410884592246067\n"
     ]
    }
   ],
   "source": [
    "data = data_scaled[[\n",
    "    'Illiterate',\n",
    "    'Percentage Graduate & above'\n",
    "]]\n",
    "try_kmeans(data)"
   ]
  },
  {
   "cell_type": "code",
   "execution_count": 249,
   "metadata": {},
   "outputs": [
    {
     "data": {
      "text/html": [
       "<div>\n",
       "<style scoped>\n",
       "    .dataframe tbody tr th:only-of-type {\n",
       "        vertical-align: middle;\n",
       "    }\n",
       "\n",
       "    .dataframe tbody tr th {\n",
       "        vertical-align: top;\n",
       "    }\n",
       "\n",
       "    .dataframe thead tr th {\n",
       "        text-align: left;\n",
       "    }\n",
       "</style>\n",
       "<table border=\"1\" class=\"dataframe\">\n",
       "  <thead>\n",
       "    <tr>\n",
       "      <th></th>\n",
       "      <th>Illiterate</th>\n",
       "      <th>Graduate &amp; above</th>\n",
       "      <th>Total - Population</th>\n",
       "      <th>Percentage Illiterate</th>\n",
       "      <th>Percentage Graduate &amp; above</th>\n",
       "    </tr>\n",
       "  </thead>\n",
       "  <tbody>\n",
       "    <tr>\n",
       "      <th>0</th>\n",
       "      <td>-0.384782</td>\n",
       "      <td>-0.500111</td>\n",
       "      <td>-0.503383</td>\n",
       "      <td>1.203902</td>\n",
       "      <td>-0.250185</td>\n",
       "    </tr>\n",
       "    <tr>\n",
       "      <th>1</th>\n",
       "      <td>-0.600888</td>\n",
       "      <td>-0.585328</td>\n",
       "      <td>-0.632950</td>\n",
       "      <td>-1.067532</td>\n",
       "      <td>0.256526</td>\n",
       "    </tr>\n",
       "    <tr>\n",
       "      <th>2</th>\n",
       "      <td>-0.249850</td>\n",
       "      <td>-0.069368</td>\n",
       "      <td>-0.156405</td>\n",
       "      <td>-0.438373</td>\n",
       "      <td>0.029016</td>\n",
       "    </tr>\n",
       "    <tr>\n",
       "      <th>3</th>\n",
       "      <td>-0.671456</td>\n",
       "      <td>-0.713421</td>\n",
       "      <td>-0.765541</td>\n",
       "      <td>-0.616716</td>\n",
       "      <td>3.154645</td>\n",
       "    </tr>\n",
       "    <tr>\n",
       "      <th>4</th>\n",
       "      <td>-0.514483</td>\n",
       "      <td>-0.398717</td>\n",
       "      <td>-0.559417</td>\n",
       "      <td>-0.171623</td>\n",
       "      <td>1.053547</td>\n",
       "    </tr>\n",
       "  </tbody>\n",
       "</table>\n",
       "</div>"
      ],
      "text/plain": [
       "  Illiterate Graduate & above Total - Population Percentage Illiterate  \\\n",
       "0  -0.384782        -0.500111          -0.503383              1.203902   \n",
       "1  -0.600888        -0.585328          -0.632950             -1.067532   \n",
       "2  -0.249850        -0.069368          -0.156405             -0.438373   \n",
       "3  -0.671456        -0.713421          -0.765541             -0.616716   \n",
       "4  -0.514483        -0.398717          -0.559417             -0.171623   \n",
       "\n",
       "  Percentage Graduate & above  \n",
       "0                   -0.250185  \n",
       "1                    0.256526  \n",
       "2                    0.029016  \n",
       "3                    3.154645  \n",
       "4                    1.053547  "
      ]
     },
     "execution_count": 249,
     "metadata": {},
     "output_type": "execute_result"
    }
   ],
   "source": [
    "data_scaled.head()"
   ]
  },
  {
   "cell_type": "code",
   "execution_count": 250,
   "metadata": {},
   "outputs": [
    {
     "name": "stdout",
     "output_type": "stream",
     "text": [
      "doing kmeans for MultiIndex([(  'Graduate & above',),\n",
      "            ('Total - Population',)],\n",
      "           )\n"
     ]
    },
    {
     "data": {
      "image/png": "[encoded data removed]",
      "text/plain": [
       "<Figure size 640x480 with 1 Axes>"
      ]
     },
     "metadata": {},
     "output_type": "display_data"
    },
    {
     "name": "stdout",
     "output_type": "stream",
     "text": [
      "ssd : [22.706293272823473, 11.114190476411142, 7.003817048520227, 3.0285945215467835, 2.657449045593509, 1.668857208418392, 0.9456061687820184]\n",
      "For n_clusters = 2, the silhouette score is 0.6707270535607529\n",
      "For n_clusters = 3, the silhouette score is 0.6604298507117025\n",
      "For n_clusters = 4, the silhouette score is 0.5896876860899254\n",
      "For n_clusters = 5, the silhouette score is 0.6459536765250371\n",
      "For n_clusters = 6, the silhouette score is 0.5914186001029581\n",
      "For n_clusters = 7, the silhouette score is 0.6423589889008502\n",
      "For n_clusters = 8, the silhouette score is 0.5742853873011413\n"
     ]
    }
   ],
   "source": [
    "data = data_scaled[[\n",
    "    'Graduate & above',\n",
    "    'Total - Population'\n",
    "]]\n",
    "try_kmeans(data)"
   ]
  },
  {
   "cell_type": "code",
   "execution_count": 251,
   "metadata": {},
   "outputs": [
    {
     "data": {
      "text/html": [
       "<div>\n",
       "<style scoped>\n",
       "    .dataframe tbody tr th:only-of-type {\n",
       "        vertical-align: middle;\n",
       "    }\n",
       "\n",
       "    .dataframe tbody tr th {\n",
       "        vertical-align: top;\n",
       "    }\n",
       "\n",
       "    .dataframe thead tr th {\n",
       "        text-align: left;\n",
       "    }\n",
       "</style>\n",
       "<table border=\"1\" class=\"dataframe\">\n",
       "  <thead>\n",
       "    <tr>\n",
       "      <th></th>\n",
       "      <th>Illiterate</th>\n",
       "      <th>Graduate &amp; above</th>\n",
       "      <th>Total - Population</th>\n",
       "      <th>Percentage Illiterate</th>\n",
       "      <th>Percentage Graduate &amp; above</th>\n",
       "    </tr>\n",
       "  </thead>\n",
       "  <tbody>\n",
       "    <tr>\n",
       "      <th>0</th>\n",
       "      <td>-0.384782</td>\n",
       "      <td>-0.500111</td>\n",
       "      <td>-0.503383</td>\n",
       "      <td>1.203902</td>\n",
       "      <td>-0.250185</td>\n",
       "    </tr>\n",
       "    <tr>\n",
       "      <th>1</th>\n",
       "      <td>-0.600888</td>\n",
       "      <td>-0.585328</td>\n",
       "      <td>-0.632950</td>\n",
       "      <td>-1.067532</td>\n",
       "      <td>0.256526</td>\n",
       "    </tr>\n",
       "    <tr>\n",
       "      <th>2</th>\n",
       "      <td>-0.249850</td>\n",
       "      <td>-0.069368</td>\n",
       "      <td>-0.156405</td>\n",
       "      <td>-0.438373</td>\n",
       "      <td>0.029016</td>\n",
       "    </tr>\n",
       "    <tr>\n",
       "      <th>3</th>\n",
       "      <td>-0.671456</td>\n",
       "      <td>-0.713421</td>\n",
       "      <td>-0.765541</td>\n",
       "      <td>-0.616716</td>\n",
       "      <td>3.154645</td>\n",
       "    </tr>\n",
       "    <tr>\n",
       "      <th>4</th>\n",
       "      <td>-0.514483</td>\n",
       "      <td>-0.398717</td>\n",
       "      <td>-0.559417</td>\n",
       "      <td>-0.171623</td>\n",
       "      <td>1.053547</td>\n",
       "    </tr>\n",
       "  </tbody>\n",
       "</table>\n",
       "</div>"
      ],
      "text/plain": [
       "  Illiterate Graduate & above Total - Population Percentage Illiterate  \\\n",
       "0  -0.384782        -0.500111          -0.503383              1.203902   \n",
       "1  -0.600888        -0.585328          -0.632950             -1.067532   \n",
       "2  -0.249850        -0.069368          -0.156405             -0.438373   \n",
       "3  -0.671456        -0.713421          -0.765541             -0.616716   \n",
       "4  -0.514483        -0.398717          -0.559417             -0.171623   \n",
       "\n",
       "  Percentage Graduate & above  \n",
       "0                   -0.250185  \n",
       "1                    0.256526  \n",
       "2                    0.029016  \n",
       "3                    3.154645  \n",
       "4                    1.053547  "
      ]
     },
     "execution_count": 251,
     "metadata": {},
     "output_type": "execute_result"
    }
   ],
   "source": [
    "data_scaled.head()"
   ]
  },
  {
   "cell_type": "code",
   "execution_count": 252,
   "metadata": {},
   "outputs": [
    {
     "name": "stdout",
     "output_type": "stream",
     "text": [
      "doing kmeans for MultiIndex([(     'Graduate & above',),\n",
      "            ('Percentage Illiterate',)],\n",
      "           )\n"
     ]
    },
    {
     "data": {
      "image/png": "[encoded data removed]",
      "text/plain": [
       "<Figure size 640x480 with 1 Axes>"
      ]
     },
     "metadata": {},
     "output_type": "display_data"
    },
    {
     "name": "stdout",
     "output_type": "stream",
     "text": [
      "ssd : [44.48151522241957, 22.696718916708992, 16.483691063587873, 12.363569135785896, 10.74317947484025, 9.601589883931055, 6.506735665779247]\n",
      "For n_clusters = 2, the silhouette score is 0.48441622088263736\n",
      "For n_clusters = 3, the silhouette score is 0.4453744568709278\n",
      "For n_clusters = 4, the silhouette score is 0.4000312271862467\n",
      "For n_clusters = 5, the silhouette score is 0.3909272479307107\n",
      "For n_clusters = 6, the silhouette score is 0.30272815768737354\n",
      "For n_clusters = 7, the silhouette score is 0.3623852511158438\n",
      "For n_clusters = 8, the silhouette score is 0.37628802090783015\n"
     ]
    }
   ],
   "source": [
    "data = data_scaled[[\n",
    "    'Graduate & above',\n",
    "    'Percentage Illiterate'\n",
    "]]\n",
    "try_kmeans(data)"
   ]
  },
  {
   "cell_type": "code",
   "execution_count": 253,
   "metadata": {},
   "outputs": [
    {
     "data": {
      "text/html": [
       "<div>\n",
       "<style scoped>\n",
       "    .dataframe tbody tr th:only-of-type {\n",
       "        vertical-align: middle;\n",
       "    }\n",
       "\n",
       "    .dataframe tbody tr th {\n",
       "        vertical-align: top;\n",
       "    }\n",
       "\n",
       "    .dataframe thead tr th {\n",
       "        text-align: left;\n",
       "    }\n",
       "</style>\n",
       "<table border=\"1\" class=\"dataframe\">\n",
       "  <thead>\n",
       "    <tr>\n",
       "      <th></th>\n",
       "      <th>Illiterate</th>\n",
       "      <th>Graduate &amp; above</th>\n",
       "      <th>Total - Population</th>\n",
       "      <th>Percentage Illiterate</th>\n",
       "      <th>Percentage Graduate &amp; above</th>\n",
       "    </tr>\n",
       "  </thead>\n",
       "  <tbody>\n",
       "    <tr>\n",
       "      <th>0</th>\n",
       "      <td>-0.384782</td>\n",
       "      <td>-0.500111</td>\n",
       "      <td>-0.503383</td>\n",
       "      <td>1.203902</td>\n",
       "      <td>-0.250185</td>\n",
       "    </tr>\n",
       "    <tr>\n",
       "      <th>1</th>\n",
       "      <td>-0.600888</td>\n",
       "      <td>-0.585328</td>\n",
       "      <td>-0.632950</td>\n",
       "      <td>-1.067532</td>\n",
       "      <td>0.256526</td>\n",
       "    </tr>\n",
       "    <tr>\n",
       "      <th>2</th>\n",
       "      <td>-0.249850</td>\n",
       "      <td>-0.069368</td>\n",
       "      <td>-0.156405</td>\n",
       "      <td>-0.438373</td>\n",
       "      <td>0.029016</td>\n",
       "    </tr>\n",
       "    <tr>\n",
       "      <th>3</th>\n",
       "      <td>-0.671456</td>\n",
       "      <td>-0.713421</td>\n",
       "      <td>-0.765541</td>\n",
       "      <td>-0.616716</td>\n",
       "      <td>3.154645</td>\n",
       "    </tr>\n",
       "    <tr>\n",
       "      <th>4</th>\n",
       "      <td>-0.514483</td>\n",
       "      <td>-0.398717</td>\n",
       "      <td>-0.559417</td>\n",
       "      <td>-0.171623</td>\n",
       "      <td>1.053547</td>\n",
       "    </tr>\n",
       "  </tbody>\n",
       "</table>\n",
       "</div>"
      ],
      "text/plain": [
       "  Illiterate Graduate & above Total - Population Percentage Illiterate  \\\n",
       "0  -0.384782        -0.500111          -0.503383              1.203902   \n",
       "1  -0.600888        -0.585328          -0.632950             -1.067532   \n",
       "2  -0.249850        -0.069368          -0.156405             -0.438373   \n",
       "3  -0.671456        -0.713421          -0.765541             -0.616716   \n",
       "4  -0.514483        -0.398717          -0.559417             -0.171623   \n",
       "\n",
       "  Percentage Graduate & above  \n",
       "0                   -0.250185  \n",
       "1                    0.256526  \n",
       "2                    0.029016  \n",
       "3                    3.154645  \n",
       "4                    1.053547  "
      ]
     },
     "execution_count": 253,
     "metadata": {},
     "output_type": "execute_result"
    }
   ],
   "source": [
    "data_scaled.head()"
   ]
  },
  {
   "cell_type": "code",
   "execution_count": 254,
   "metadata": {},
   "outputs": [
    {
     "name": "stdout",
     "output_type": "stream",
     "text": [
      "doing kmeans for MultiIndex([(           'Graduate & above',),\n",
      "            ('Percentage Graduate & above',)],\n",
      "           )\n"
     ]
    },
    {
     "data": {
      "image/png": "[encoded data removed]",
      "text/plain": [
       "<Figure size 640x480 with 1 Axes>"
      ]
     },
     "metadata": {},
     "output_type": "display_data"
    },
    {
     "name": "stdout",
     "output_type": "stream",
     "text": [
      "ssd : [46.947958091850026, 21.895892937961232, 15.514903772597759, 13.48592681473588, 9.861847025151501, 7.326386437873255, 4.2270956210092505]\n",
      "For n_clusters = 2, the silhouette score is 0.43450816789531366\n",
      "For n_clusters = 3, the silhouette score is 0.5260347529799746\n",
      "For n_clusters = 4, the silhouette score is 0.39212146891983\n",
      "For n_clusters = 5, the silhouette score is 0.38430737419258615\n",
      "For n_clusters = 6, the silhouette score is 0.4145258164123352\n",
      "For n_clusters = 7, the silhouette score is 0.408213494279397\n",
      "For n_clusters = 8, the silhouette score is 0.456885622656957\n"
     ]
    }
   ],
   "source": [
    "data = data_scaled[[\n",
    "    'Graduate & above',\n",
    "    'Percentage Graduate & above'\n",
    "]]\n",
    "try_kmeans(data)"
   ]
  },
  {
   "cell_type": "code",
   "execution_count": 255,
   "metadata": {},
   "outputs": [
    {
     "data": {
      "text/html": [
       "<div>\n",
       "<style scoped>\n",
       "    .dataframe tbody tr th:only-of-type {\n",
       "        vertical-align: middle;\n",
       "    }\n",
       "\n",
       "    .dataframe tbody tr th {\n",
       "        vertical-align: top;\n",
       "    }\n",
       "\n",
       "    .dataframe thead tr th {\n",
       "        text-align: left;\n",
       "    }\n",
       "</style>\n",
       "<table border=\"1\" class=\"dataframe\">\n",
       "  <thead>\n",
       "    <tr>\n",
       "      <th></th>\n",
       "      <th>Illiterate</th>\n",
       "      <th>Graduate &amp; above</th>\n",
       "      <th>Total - Population</th>\n",
       "      <th>Percentage Illiterate</th>\n",
       "      <th>Percentage Graduate &amp; above</th>\n",
       "    </tr>\n",
       "  </thead>\n",
       "  <tbody>\n",
       "    <tr>\n",
       "      <th>0</th>\n",
       "      <td>-0.384782</td>\n",
       "      <td>-0.500111</td>\n",
       "      <td>-0.503383</td>\n",
       "      <td>1.203902</td>\n",
       "      <td>-0.250185</td>\n",
       "    </tr>\n",
       "    <tr>\n",
       "      <th>1</th>\n",
       "      <td>-0.600888</td>\n",
       "      <td>-0.585328</td>\n",
       "      <td>-0.632950</td>\n",
       "      <td>-1.067532</td>\n",
       "      <td>0.256526</td>\n",
       "    </tr>\n",
       "    <tr>\n",
       "      <th>2</th>\n",
       "      <td>-0.249850</td>\n",
       "      <td>-0.069368</td>\n",
       "      <td>-0.156405</td>\n",
       "      <td>-0.438373</td>\n",
       "      <td>0.029016</td>\n",
       "    </tr>\n",
       "    <tr>\n",
       "      <th>3</th>\n",
       "      <td>-0.671456</td>\n",
       "      <td>-0.713421</td>\n",
       "      <td>-0.765541</td>\n",
       "      <td>-0.616716</td>\n",
       "      <td>3.154645</td>\n",
       "    </tr>\n",
       "    <tr>\n",
       "      <th>4</th>\n",
       "      <td>-0.514483</td>\n",
       "      <td>-0.398717</td>\n",
       "      <td>-0.559417</td>\n",
       "      <td>-0.171623</td>\n",
       "      <td>1.053547</td>\n",
       "    </tr>\n",
       "  </tbody>\n",
       "</table>\n",
       "</div>"
      ],
      "text/plain": [
       "  Illiterate Graduate & above Total - Population Percentage Illiterate  \\\n",
       "0  -0.384782        -0.500111          -0.503383              1.203902   \n",
       "1  -0.600888        -0.585328          -0.632950             -1.067532   \n",
       "2  -0.249850        -0.069368          -0.156405             -0.438373   \n",
       "3  -0.671456        -0.713421          -0.765541             -0.616716   \n",
       "4  -0.514483        -0.398717          -0.559417             -0.171623   \n",
       "\n",
       "  Percentage Graduate & above  \n",
       "0                   -0.250185  \n",
       "1                    0.256526  \n",
       "2                    0.029016  \n",
       "3                    3.154645  \n",
       "4                    1.053547  "
      ]
     },
     "execution_count": 255,
     "metadata": {},
     "output_type": "execute_result"
    }
   ],
   "source": [
    "data_scaled.head()"
   ]
  },
  {
   "cell_type": "code",
   "execution_count": 256,
   "metadata": {},
   "outputs": [
    {
     "name": "stdout",
     "output_type": "stream",
     "text": [
      "doing kmeans for MultiIndex([(   'Total - Population',),\n",
      "            ('Percentage Illiterate',)],\n",
      "           )\n"
     ]
    },
    {
     "data": {
      "image/png": "[encoded data removed]",
      "text/plain": [
       "<Figure size 640x480 with 1 Axes>"
      ]
     },
     "metadata": {},
     "output_type": "display_data"
    },
    {
     "name": "stdout",
     "output_type": "stream",
     "text": [
      "ssd : [43.32600941602786, 29.78931237031923, 17.881720186739038, 13.170044091902573, 8.993795297408177, 6.597903144195521, 5.629250904125816]\n",
      "For n_clusters = 2, the silhouette score is 0.38649508475077515\n",
      "For n_clusters = 3, the silhouette score is 0.3954240012526424\n",
      "For n_clusters = 4, the silhouette score is 0.3839688051367439\n",
      "For n_clusters = 5, the silhouette score is 0.44707109381114885\n",
      "For n_clusters = 6, the silhouette score is 0.37465971385697583\n",
      "For n_clusters = 7, the silhouette score is 0.39204238594907664\n",
      "For n_clusters = 8, the silhouette score is 0.35829958073706797\n"
     ]
    }
   ],
   "source": [
    "data = data_scaled[[\n",
    "    'Total - Population',\n",
    "    'Percentage Illiterate'\n",
    "]]\n",
    "try_kmeans(data)"
   ]
  },
  {
   "cell_type": "code",
   "execution_count": 257,
   "metadata": {},
   "outputs": [
    {
     "data": {
      "text/html": [
       "<div>\n",
       "<style scoped>\n",
       "    .dataframe tbody tr th:only-of-type {\n",
       "        vertical-align: middle;\n",
       "    }\n",
       "\n",
       "    .dataframe tbody tr th {\n",
       "        vertical-align: top;\n",
       "    }\n",
       "\n",
       "    .dataframe thead tr th {\n",
       "        text-align: left;\n",
       "    }\n",
       "</style>\n",
       "<table border=\"1\" class=\"dataframe\">\n",
       "  <thead>\n",
       "    <tr>\n",
       "      <th></th>\n",
       "      <th>Illiterate</th>\n",
       "      <th>Graduate &amp; above</th>\n",
       "      <th>Total - Population</th>\n",
       "      <th>Percentage Illiterate</th>\n",
       "      <th>Percentage Graduate &amp; above</th>\n",
       "    </tr>\n",
       "  </thead>\n",
       "  <tbody>\n",
       "    <tr>\n",
       "      <th>0</th>\n",
       "      <td>-0.384782</td>\n",
       "      <td>-0.500111</td>\n",
       "      <td>-0.503383</td>\n",
       "      <td>1.203902</td>\n",
       "      <td>-0.250185</td>\n",
       "    </tr>\n",
       "    <tr>\n",
       "      <th>1</th>\n",
       "      <td>-0.600888</td>\n",
       "      <td>-0.585328</td>\n",
       "      <td>-0.632950</td>\n",
       "      <td>-1.067532</td>\n",
       "      <td>0.256526</td>\n",
       "    </tr>\n",
       "    <tr>\n",
       "      <th>2</th>\n",
       "      <td>-0.249850</td>\n",
       "      <td>-0.069368</td>\n",
       "      <td>-0.156405</td>\n",
       "      <td>-0.438373</td>\n",
       "      <td>0.029016</td>\n",
       "    </tr>\n",
       "    <tr>\n",
       "      <th>3</th>\n",
       "      <td>-0.671456</td>\n",
       "      <td>-0.713421</td>\n",
       "      <td>-0.765541</td>\n",
       "      <td>-0.616716</td>\n",
       "      <td>3.154645</td>\n",
       "    </tr>\n",
       "    <tr>\n",
       "      <th>4</th>\n",
       "      <td>-0.514483</td>\n",
       "      <td>-0.398717</td>\n",
       "      <td>-0.559417</td>\n",
       "      <td>-0.171623</td>\n",
       "      <td>1.053547</td>\n",
       "    </tr>\n",
       "  </tbody>\n",
       "</table>\n",
       "</div>"
      ],
      "text/plain": [
       "  Illiterate Graduate & above Total - Population Percentage Illiterate  \\\n",
       "0  -0.384782        -0.500111          -0.503383              1.203902   \n",
       "1  -0.600888        -0.585328          -0.632950             -1.067532   \n",
       "2  -0.249850        -0.069368          -0.156405             -0.438373   \n",
       "3  -0.671456        -0.713421          -0.765541             -0.616716   \n",
       "4  -0.514483        -0.398717          -0.559417             -0.171623   \n",
       "\n",
       "  Percentage Graduate & above  \n",
       "0                   -0.250185  \n",
       "1                    0.256526  \n",
       "2                    0.029016  \n",
       "3                    3.154645  \n",
       "4                    1.053547  "
      ]
     },
     "execution_count": 257,
     "metadata": {},
     "output_type": "execute_result"
    }
   ],
   "source": [
    "data_scaled.head()"
   ]
  },
  {
   "cell_type": "code",
   "execution_count": 258,
   "metadata": {},
   "outputs": [
    {
     "name": "stdout",
     "output_type": "stream",
     "text": [
      "doing kmeans for MultiIndex([(         'Total - Population',),\n",
      "            ('Percentage Graduate & above',)],\n",
      "           )\n"
     ]
    },
    {
     "data": {
      "image/png": "[encoded data removed]",
      "text/plain": [
       "<Figure size 640x480 with 1 Axes>"
      ]
     },
     "metadata": {},
     "output_type": "display_data"
    },
    {
     "name": "stdout",
     "output_type": "stream",
     "text": [
      "ssd : [45.44529991298284, 23.075129099615502, 17.02566783679665, 10.363499961108872, 8.756288124362724, 6.06437748892958, 4.952647092579852]\n",
      "For n_clusters = 2, the silhouette score is 0.5670775114637335\n",
      "For n_clusters = 3, the silhouette score is 0.4650966111416462\n",
      "For n_clusters = 4, the silhouette score is 0.37889420788771805\n",
      "For n_clusters = 5, the silhouette score is 0.4003222834943853\n",
      "For n_clusters = 6, the silhouette score is 0.43254269391750627\n",
      "For n_clusters = 7, the silhouette score is 0.41536911051109915\n",
      "For n_clusters = 8, the silhouette score is 0.39809132631519906\n"
     ]
    }
   ],
   "source": [
    "data = data_scaled[[\n",
    "    'Total - Population',\n",
    "    'Percentage Graduate & above'\n",
    "]]\n",
    "try_kmeans(data)"
   ]
  },
  {
   "cell_type": "code",
   "execution_count": 259,
   "metadata": {},
   "outputs": [
    {
     "data": {
      "text/html": [
       "<div>\n",
       "<style scoped>\n",
       "    .dataframe tbody tr th:only-of-type {\n",
       "        vertical-align: middle;\n",
       "    }\n",
       "\n",
       "    .dataframe tbody tr th {\n",
       "        vertical-align: top;\n",
       "    }\n",
       "\n",
       "    .dataframe thead tr th {\n",
       "        text-align: left;\n",
       "    }\n",
       "</style>\n",
       "<table border=\"1\" class=\"dataframe\">\n",
       "  <thead>\n",
       "    <tr>\n",
       "      <th></th>\n",
       "      <th>Illiterate</th>\n",
       "      <th>Graduate &amp; above</th>\n",
       "      <th>Total - Population</th>\n",
       "      <th>Percentage Illiterate</th>\n",
       "      <th>Percentage Graduate &amp; above</th>\n",
       "    </tr>\n",
       "  </thead>\n",
       "  <tbody>\n",
       "    <tr>\n",
       "      <th>0</th>\n",
       "      <td>-0.384782</td>\n",
       "      <td>-0.500111</td>\n",
       "      <td>-0.503383</td>\n",
       "      <td>1.203902</td>\n",
       "      <td>-0.250185</td>\n",
       "    </tr>\n",
       "    <tr>\n",
       "      <th>1</th>\n",
       "      <td>-0.600888</td>\n",
       "      <td>-0.585328</td>\n",
       "      <td>-0.632950</td>\n",
       "      <td>-1.067532</td>\n",
       "      <td>0.256526</td>\n",
       "    </tr>\n",
       "    <tr>\n",
       "      <th>2</th>\n",
       "      <td>-0.249850</td>\n",
       "      <td>-0.069368</td>\n",
       "      <td>-0.156405</td>\n",
       "      <td>-0.438373</td>\n",
       "      <td>0.029016</td>\n",
       "    </tr>\n",
       "    <tr>\n",
       "      <th>3</th>\n",
       "      <td>-0.671456</td>\n",
       "      <td>-0.713421</td>\n",
       "      <td>-0.765541</td>\n",
       "      <td>-0.616716</td>\n",
       "      <td>3.154645</td>\n",
       "    </tr>\n",
       "    <tr>\n",
       "      <th>4</th>\n",
       "      <td>-0.514483</td>\n",
       "      <td>-0.398717</td>\n",
       "      <td>-0.559417</td>\n",
       "      <td>-0.171623</td>\n",
       "      <td>1.053547</td>\n",
       "    </tr>\n",
       "  </tbody>\n",
       "</table>\n",
       "</div>"
      ],
      "text/plain": [
       "  Illiterate Graduate & above Total - Population Percentage Illiterate  \\\n",
       "0  -0.384782        -0.500111          -0.503383              1.203902   \n",
       "1  -0.600888        -0.585328          -0.632950             -1.067532   \n",
       "2  -0.249850        -0.069368          -0.156405             -0.438373   \n",
       "3  -0.671456        -0.713421          -0.765541             -0.616716   \n",
       "4  -0.514483        -0.398717          -0.559417             -0.171623   \n",
       "\n",
       "  Percentage Graduate & above  \n",
       "0                   -0.250185  \n",
       "1                    0.256526  \n",
       "2                    0.029016  \n",
       "3                    3.154645  \n",
       "4                    1.053547  "
      ]
     },
     "execution_count": 259,
     "metadata": {},
     "output_type": "execute_result"
    }
   ],
   "source": [
    "data_scaled.head()"
   ]
  },
  {
   "cell_type": "code",
   "execution_count": 260,
   "metadata": {},
   "outputs": [
    {
     "name": "stdout",
     "output_type": "stream",
     "text": [
      "doing kmeans for MultiIndex([(      'Percentage Illiterate',),\n",
      "            ('Percentage Graduate & above',)],\n",
      "           )\n"
     ]
    },
    {
     "data": {
      "image/png": "[encoded data removed]",
      "text/plain": [
       "<Figure size 640x480 with 1 Axes>"
      ]
     },
     "metadata": {},
     "output_type": "display_data"
    },
    {
     "name": "stdout",
     "output_type": "stream",
     "text": [
      "ssd : [35.415928230612494, 20.650615499930076, 13.935876517412268, 10.064909277450766, 8.404557109629451, 6.446370773425796, 5.963883340823703]\n",
      "For n_clusters = 2, the silhouette score is 0.4295596658143386\n",
      "For n_clusters = 3, the silhouette score is 0.4734427872361138\n",
      "For n_clusters = 4, the silhouette score is 0.36249351131048846\n",
      "For n_clusters = 5, the silhouette score is 0.38582513606189284\n",
      "For n_clusters = 6, the silhouette score is 0.36500292295680636\n",
      "For n_clusters = 7, the silhouette score is 0.3631465920329749\n",
      "For n_clusters = 8, the silhouette score is 0.33159833985528064\n"
     ]
    }
   ],
   "source": [
    "data = data_scaled[[\n",
    "    'Percentage Illiterate',\n",
    "    'Percentage Graduate & above'\n",
    "]]\n",
    "try_kmeans(data)"
   ]
  }
 ],
 "metadata": {
  "kernelspec": {
   "display_name": "aimlenv",
   "language": "python",
   "name": "aimlenv"
  },
  "language_info": {
   "codemirror_mode": {
    "name": "ipython",
    "version": 3
   },
   "file_extension": ".py",
   "mimetype": "text/x-python",
   "name": "python",
   "nbconvert_exporter": "python",
   "pygments_lexer": "ipython3",
   "version": "3.11.2"
  }
 },
 "nbformat": 4,
 "nbformat_minor": 2
}
