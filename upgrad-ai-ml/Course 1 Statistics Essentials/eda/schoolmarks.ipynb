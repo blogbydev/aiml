{
 "cells": [
  {
   "cell_type": "code",
   "execution_count": 1,
   "metadata": {},
   "outputs": [],
   "source": [
    "import numpy as np\n",
    "import pandas as pd\n",
    "import matplotlib.pyplot as plt\n",
    "import seaborn as sns"
   ]
  },
  {
   "cell_type": "code",
   "execution_count": 2,
   "metadata": {},
   "outputs": [
    {
     "data": {
      "text/html": [
       "<div>\n",
       "<style scoped>\n",
       "    .dataframe tbody tr th:only-of-type {\n",
       "        vertical-align: middle;\n",
       "    }\n",
       "\n",
       "    .dataframe tbody tr th {\n",
       "        vertical-align: top;\n",
       "    }\n",
       "\n",
       "    .dataframe thead th {\n",
       "        text-align: right;\n",
       "    }\n",
       "</style>\n",
       "<table border=\"1\" class=\"dataframe\">\n",
       "  <thead>\n",
       "    <tr style=\"text-align: right;\">\n",
       "      <th></th>\n",
       "      <th>STUID</th>\n",
       "      <th>State</th>\n",
       "      <th>District</th>\n",
       "      <th>Gender</th>\n",
       "      <th>Age</th>\n",
       "      <th>Category</th>\n",
       "      <th>Same.language</th>\n",
       "      <th>Siblings</th>\n",
       "      <th>Handicap</th>\n",
       "      <th>Father.edu</th>\n",
       "      <th>...</th>\n",
       "      <th>Express.science.views</th>\n",
       "      <th>Watch.TV</th>\n",
       "      <th>Read.magazine</th>\n",
       "      <th>Read.a.book</th>\n",
       "      <th>Play.games</th>\n",
       "      <th>Help.in.household</th>\n",
       "      <th>Maths..</th>\n",
       "      <th>Reading..</th>\n",
       "      <th>Science..</th>\n",
       "      <th>Social..</th>\n",
       "    </tr>\n",
       "  </thead>\n",
       "  <tbody>\n",
       "    <tr>\n",
       "      <th>0</th>\n",
       "      <td>26011001001</td>\n",
       "      <td>Maharashtra</td>\n",
       "      <td>1</td>\n",
       "      <td>Girl</td>\n",
       "      <td>13 years</td>\n",
       "      <td>3.0</td>\n",
       "      <td>2.0</td>\n",
       "      <td>1 sibling</td>\n",
       "      <td>No</td>\n",
       "      <td>Illiterate</td>\n",
       "      <td>...</td>\n",
       "      <td>Agree</td>\n",
       "      <td>Every day</td>\n",
       "      <td>Never</td>\n",
       "      <td>Once a month</td>\n",
       "      <td>Once a week</td>\n",
       "      <td>Every day</td>\n",
       "      <td>NaN</td>\n",
       "      <td>33.33</td>\n",
       "      <td>NaN</td>\n",
       "      <td>NaN</td>\n",
       "    </tr>\n",
       "    <tr>\n",
       "      <th>1</th>\n",
       "      <td>26011001002</td>\n",
       "      <td>Maharashtra</td>\n",
       "      <td>1</td>\n",
       "      <td>Girl</td>\n",
       "      <td>15 years</td>\n",
       "      <td>3.0</td>\n",
       "      <td>2.0</td>\n",
       "      <td>3 siblings</td>\n",
       "      <td>No</td>\n",
       "      <td>NaN</td>\n",
       "      <td>...</td>\n",
       "      <td>Agree</td>\n",
       "      <td>Once a week</td>\n",
       "      <td>Never</td>\n",
       "      <td>Never</td>\n",
       "      <td>Once a week</td>\n",
       "      <td>Every day</td>\n",
       "      <td>NaN</td>\n",
       "      <td>62.07</td>\n",
       "      <td>NaN</td>\n",
       "      <td>NaN</td>\n",
       "    </tr>\n",
       "    <tr>\n",
       "      <th>2</th>\n",
       "      <td>26011001003</td>\n",
       "      <td>Maharashtra</td>\n",
       "      <td>1</td>\n",
       "      <td>Girl</td>\n",
       "      <td>14 years</td>\n",
       "      <td>3.0</td>\n",
       "      <td>2.0</td>\n",
       "      <td>3 siblings</td>\n",
       "      <td>No</td>\n",
       "      <td>Degree &amp; above</td>\n",
       "      <td>...</td>\n",
       "      <td>Agree</td>\n",
       "      <td>Every day</td>\n",
       "      <td>Once a month</td>\n",
       "      <td>Once a month</td>\n",
       "      <td>Once a week</td>\n",
       "      <td>Every day</td>\n",
       "      <td>NaN</td>\n",
       "      <td>41.38</td>\n",
       "      <td>NaN</td>\n",
       "      <td>NaN</td>\n",
       "    </tr>\n",
       "    <tr>\n",
       "      <th>3</th>\n",
       "      <td>26011001004</td>\n",
       "      <td>Maharashtra</td>\n",
       "      <td>1</td>\n",
       "      <td>Boy</td>\n",
       "      <td>13 years</td>\n",
       "      <td>3.0</td>\n",
       "      <td>2.0</td>\n",
       "      <td>3 siblings</td>\n",
       "      <td>No</td>\n",
       "      <td>Secondary</td>\n",
       "      <td>...</td>\n",
       "      <td>Agree</td>\n",
       "      <td>Every day</td>\n",
       "      <td>Every day</td>\n",
       "      <td>Never</td>\n",
       "      <td>Every day</td>\n",
       "      <td>Every day</td>\n",
       "      <td>29.82</td>\n",
       "      <td>NaN</td>\n",
       "      <td>NaN</td>\n",
       "      <td>NaN</td>\n",
       "    </tr>\n",
       "    <tr>\n",
       "      <th>4</th>\n",
       "      <td>26011001005</td>\n",
       "      <td>Maharashtra</td>\n",
       "      <td>1</td>\n",
       "      <td>Girl</td>\n",
       "      <td>14 years</td>\n",
       "      <td>3.0</td>\n",
       "      <td>2.0</td>\n",
       "      <td>2 siblings</td>\n",
       "      <td>No</td>\n",
       "      <td>Primary</td>\n",
       "      <td>...</td>\n",
       "      <td>Neither</td>\n",
       "      <td>Never</td>\n",
       "      <td>Never</td>\n",
       "      <td>Once a month</td>\n",
       "      <td>Once a week</td>\n",
       "      <td>Every day</td>\n",
       "      <td>NaN</td>\n",
       "      <td>NaN</td>\n",
       "      <td>27.27</td>\n",
       "      <td>NaN</td>\n",
       "    </tr>\n",
       "  </tbody>\n",
       "</table>\n",
       "<p>5 rows × 64 columns</p>\n",
       "</div>"
      ],
      "text/plain": [
       "         STUID        State  District Gender       Age  Category  \\\n",
       "0  26011001001  Maharashtra         1   Girl  13 years       3.0   \n",
       "1  26011001002  Maharashtra         1   Girl  15 years       3.0   \n",
       "2  26011001003  Maharashtra         1   Girl  14 years       3.0   \n",
       "3  26011001004  Maharashtra         1    Boy  13 years       3.0   \n",
       "4  26011001005  Maharashtra         1   Girl  14 years       3.0   \n",
       "\n",
       "   Same.language    Siblings Handicap      Father.edu  ...  \\\n",
       "0            2.0   1 sibling       No      Illiterate  ...   \n",
       "1            2.0  3 siblings       No             NaN  ...   \n",
       "2            2.0  3 siblings       No  Degree & above  ...   \n",
       "3            2.0  3 siblings       No       Secondary  ...   \n",
       "4            2.0  2 siblings       No         Primary  ...   \n",
       "\n",
       "  Express.science.views     Watch.TV Read.magazine   Read.a.book   Play.games  \\\n",
       "0                 Agree    Every day         Never  Once a month  Once a week   \n",
       "1                 Agree  Once a week         Never         Never  Once a week   \n",
       "2                 Agree    Every day  Once a month  Once a month  Once a week   \n",
       "3                 Agree    Every day     Every day         Never    Every day   \n",
       "4               Neither        Never         Never  Once a month  Once a week   \n",
       "\n",
       "  Help.in.household Maths.. Reading.. Science.. Social..  \n",
       "0         Every day     NaN     33.33       NaN      NaN  \n",
       "1         Every day     NaN     62.07       NaN      NaN  \n",
       "2         Every day     NaN     41.38       NaN      NaN  \n",
       "3         Every day   29.82       NaN       NaN      NaN  \n",
       "4         Every day     NaN       NaN     27.27      NaN  \n",
       "\n",
       "[5 rows x 64 columns]"
      ]
     },
     "execution_count": 2,
     "metadata": {},
     "output_type": "execute_result"
    }
   ],
   "source": [
    "df = pd.read_csv('EDA_nas.csv')\n",
    "df.head()"
   ]
  },
  {
   "cell_type": "code",
   "execution_count": 12,
   "metadata": {},
   "outputs": [
    {
     "data": {
      "text/html": [
       "<div>\n",
       "<style scoped>\n",
       "    .dataframe tbody tr th:only-of-type {\n",
       "        vertical-align: middle;\n",
       "    }\n",
       "\n",
       "    .dataframe tbody tr th {\n",
       "        vertical-align: top;\n",
       "    }\n",
       "\n",
       "    .dataframe thead th {\n",
       "        text-align: right;\n",
       "    }\n",
       "</style>\n",
       "<table border=\"1\" class=\"dataframe\">\n",
       "  <thead>\n",
       "    <tr style=\"text-align: right;\">\n",
       "      <th></th>\n",
       "      <th>Watch.TV</th>\n",
       "    </tr>\n",
       "  </thead>\n",
       "  <tbody>\n",
       "    <tr>\n",
       "      <th>0</th>\n",
       "      <td>Every day</td>\n",
       "    </tr>\n",
       "    <tr>\n",
       "      <th>1</th>\n",
       "      <td>Once a week</td>\n",
       "    </tr>\n",
       "    <tr>\n",
       "      <th>2</th>\n",
       "      <td>Every day</td>\n",
       "    </tr>\n",
       "    <tr>\n",
       "      <th>3</th>\n",
       "      <td>Every day</td>\n",
       "    </tr>\n",
       "    <tr>\n",
       "      <th>4</th>\n",
       "      <td>Never</td>\n",
       "    </tr>\n",
       "  </tbody>\n",
       "</table>\n",
       "</div>"
      ],
      "text/plain": [
       "      Watch.TV\n",
       "0    Every day\n",
       "1  Once a week\n",
       "2    Every day\n",
       "3    Every day\n",
       "4        Never"
      ]
     },
     "execution_count": 12,
     "metadata": {},
     "output_type": "execute_result"
    }
   ],
   "source": [
    "df.loc[:, df.columns.str.contains('TV')].head()"
   ]
  },
  {
   "cell_type": "code",
   "execution_count": 13,
   "metadata": {},
   "outputs": [
    {
     "data": {
      "text/html": [
       "<div>\n",
       "<style scoped>\n",
       "    .dataframe tbody tr th:only-of-type {\n",
       "        vertical-align: middle;\n",
       "    }\n",
       "\n",
       "    .dataframe tbody tr th {\n",
       "        vertical-align: top;\n",
       "    }\n",
       "\n",
       "    .dataframe thead th {\n",
       "        text-align: right;\n",
       "    }\n",
       "</style>\n",
       "<table border=\"1\" class=\"dataframe\">\n",
       "  <thead>\n",
       "    <tr style=\"text-align: right;\">\n",
       "      <th></th>\n",
       "      <th>Watch.TV</th>\n",
       "      <th>Science..</th>\n",
       "    </tr>\n",
       "  </thead>\n",
       "  <tbody>\n",
       "    <tr>\n",
       "      <th>0</th>\n",
       "      <td>Every day</td>\n",
       "      <td>NaN</td>\n",
       "    </tr>\n",
       "    <tr>\n",
       "      <th>1</th>\n",
       "      <td>Once a week</td>\n",
       "      <td>NaN</td>\n",
       "    </tr>\n",
       "    <tr>\n",
       "      <th>2</th>\n",
       "      <td>Every day</td>\n",
       "      <td>NaN</td>\n",
       "    </tr>\n",
       "    <tr>\n",
       "      <th>3</th>\n",
       "      <td>Every day</td>\n",
       "      <td>NaN</td>\n",
       "    </tr>\n",
       "    <tr>\n",
       "      <th>4</th>\n",
       "      <td>Never</td>\n",
       "      <td>27.27</td>\n",
       "    </tr>\n",
       "  </tbody>\n",
       "</table>\n",
       "</div>"
      ],
      "text/plain": [
       "      Watch.TV  Science..\n",
       "0    Every day        NaN\n",
       "1  Once a week        NaN\n",
       "2    Every day        NaN\n",
       "3    Every day        NaN\n",
       "4        Never      27.27"
      ]
     },
     "execution_count": 13,
     "metadata": {},
     "output_type": "execute_result"
    }
   ],
   "source": [
    "data = df[[\n",
    "    'Watch.TV',\n",
    "    'Science..'\n",
    "]]\n",
    "data.head()"
   ]
  },
  {
   "cell_type": "code",
   "execution_count": 23,
   "metadata": {},
   "outputs": [
    {
     "data": {
      "image/png": "[encoded data removed]",
      "text/plain": [
       "<Figure size 640x480 with 1 Axes>"
      ]
     },
     "metadata": {},
     "output_type": "display_data"
    }
   ],
   "source": [
    "sns.barplot(data=df, x='Watch.TV', y='Science..', estimator='median')\n",
    "plt.show()"
   ]
  },
  {
   "cell_type": "code",
   "execution_count": 27,
   "metadata": {},
   "outputs": [
    {
     "data": {
      "text/plain": [
       "Index(['Maths.is.difficult', 'Solve.Maths', 'Solve.Maths.in.groups',\n",
       "       'Maths..'],\n",
       "      dtype='object')"
      ]
     },
     "execution_count": 27,
     "metadata": {},
     "output_type": "execute_result"
    }
   ],
   "source": [
    "df.columns[df.columns.str.contains('Maths')]"
   ]
  },
  {
   "cell_type": "code",
   "execution_count": 29,
   "metadata": {},
   "outputs": [
    {
     "data": {
      "text/plain": [
       "Index(['Father.edu', 'Father.occupation'], dtype='object')"
      ]
     },
     "execution_count": 29,
     "metadata": {},
     "output_type": "execute_result"
    }
   ],
   "source": [
    "df.columns[df.columns.str.contains('ather')]"
   ]
  },
  {
   "cell_type": "code",
   "execution_count": 34,
   "metadata": {},
   "outputs": [
    {
     "data": {
      "image/png": "[encoded data removed]",
      "text/plain": [
       "<Figure size 640x480 with 1 Axes>"
      ]
     },
     "metadata": {},
     "output_type": "display_data"
    }
   ],
   "source": [
    "sns.barplot(data=df, x='Father.edu', y='Maths..', estimator='mean')\n",
    "plt.show()"
   ]
  },
  {
   "cell_type": "code",
   "execution_count": 35,
   "metadata": {},
   "outputs": [
    {
     "data": {
      "text/plain": [
       "Index(['Play.games'], dtype='object')"
      ]
     },
     "execution_count": 35,
     "metadata": {},
     "output_type": "execute_result"
    }
   ],
   "source": [
    "df.columns[df.columns.str.contains('Play')]"
   ]
  },
  {
   "cell_type": "code",
   "execution_count": 36,
   "metadata": {},
   "outputs": [
    {
     "data": {
      "text/plain": [
       "Index(['Reading..'], dtype='object')"
      ]
     },
     "execution_count": 36,
     "metadata": {},
     "output_type": "execute_result"
    }
   ],
   "source": [
    "df.columns[df.columns.str.contains('eading')]"
   ]
  },
  {
   "cell_type": "code",
   "execution_count": 39,
   "metadata": {},
   "outputs": [
    {
     "data": {
      "image/png": "[encoded data removed]",
      "text/plain": [
       "<Figure size 640x480 with 1 Axes>"
      ]
     },
     "metadata": {},
     "output_type": "display_data"
    }
   ],
   "source": [
    "sns.barplot(data=df, x='Play.games', y='Reading..', estimator='mean')\n",
    "plt.show()"
   ]
  },
  {
   "cell_type": "code",
   "execution_count": 45,
   "metadata": {},
   "outputs": [
    {
     "name": "stdout",
     "output_type": "stream",
     "text": [
      "(8801, 64)\n",
      "['Agree' 'Disagree' 'Neither' nan]\n"
     ]
    },
    {
     "data": {
      "text/plain": [
       "8740"
      ]
     },
     "execution_count": 45,
     "metadata": {},
     "output_type": "execute_result"
    }
   ],
   "source": [
    "print(df.shape)\n",
    "print(df['Solve.Maths'].unique())\n",
    "df['Solve.Maths'].value_counts().sum()"
   ]
  },
  {
   "cell_type": "code",
   "execution_count": 47,
   "metadata": {},
   "outputs": [
    {
     "data": {
      "image/png": "[encoded data removed]",
      "text/plain": [
       "<Figure size 640x480 with 1 Axes>"
      ]
     },
     "metadata": {},
     "output_type": "display_data"
    }
   ],
   "source": [
    "sns.barplot(data=df, x='Solve.Maths', y='Maths..', estimator='mean')\n",
    "plt.show()"
   ]
  }
 ],
 "metadata": {
  "kernelspec": {
   "display_name": "Python 3",
   "language": "python",
   "name": "python3"
  },
  "language_info": {
   "codemirror_mode": {
    "name": "ipython",
    "version": 3
   },
   "file_extension": ".py",
   "mimetype": "text/x-python",
   "name": "python",
   "nbconvert_exporter": "python",
   "pygments_lexer": "ipython3",
   "version": "3.9.6"
  }
 },
 "nbformat": 4,
 "nbformat_minor": 2
}
