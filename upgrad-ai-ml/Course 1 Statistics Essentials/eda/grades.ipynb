{
 "cells": [
  {
   "cell_type": "code",
   "execution_count": 1,
   "metadata": {},
   "outputs": [],
   "source": [
    "import numpy as np\n",
    "import pandas as pd\n",
    "import matplotlib.pyplot as plt\n",
    "import seaborn as sns"
   ]
  },
  {
   "cell_type": "code",
   "execution_count": 47,
   "metadata": {},
   "outputs": [
    {
     "name": "stdout",
     "output_type": "stream",
     "text": [
      "<class 'pandas.core.frame.DataFrame'>\n",
      "RangeIndex: 198 entries, 0 to 197\n",
      "Data columns (total 2 columns):\n",
      " #   Column           Non-Null Count  Dtype         \n",
      "---  ------           --------------  -----         \n",
      " 0   submission       198 non-null    object        \n",
      " 1   submission_time  198 non-null    datetime64[ns]\n",
      "dtypes: datetime64[ns](1), object(1)\n",
      "memory usage: 3.2+ KB\n"
     ]
    }
   ],
   "source": [
    "df = pd.read_csv('grades.csv')\n",
    "df['submission_time'] = pd.to_datetime(df['submit_time'], format='%m/%d/%y-%H:%M:%S')\n",
    "df.drop(columns=['submit_time'], inplace=True)\n",
    "df.info()"
   ]
  },
  {
   "cell_type": "code",
   "execution_count": 36,
   "metadata": {},
   "outputs": [],
   "source": [
    "def getUrlParts(url):\n",
    "    split = url.split('://')\n",
    "    scheme = split[0]\n",
    "    remaining = split[1]\n",
    "    split = remaining.split('/')\n",
    "    host = split[0]\n",
    "    remaining = split[1:]\n",
    "    path = '/'.join(split[1:-1])\n",
    "    file = split[-1:][0]\n",
    "    split = file.split('.')\n",
    "    file_name = split[0]\n",
    "    file_extension = split[1]\n",
    "    return scheme, host, path, file, file_name, file_extension"
   ]
  },
  {
   "cell_type": "code",
   "execution_count": 38,
   "metadata": {},
   "outputs": [
    {
     "data": {
      "text/plain": [
       "('https', 'google.com', 'foo/baz', 'bar.zip', 'bar', 'zip')"
      ]
     },
     "execution_count": 38,
     "metadata": {},
     "output_type": "execute_result"
    }
   ],
   "source": [
    "url = 'https://google.com/foo/baz/bar.zip'\n",
    "getUrlParts(url)"
   ]
  },
  {
   "cell_type": "code",
   "execution_count": 49,
   "metadata": {},
   "outputs": [
    {
     "data": {
      "text/html": [
       "<div>\n",
       "<style scoped>\n",
       "    .dataframe tbody tr th:only-of-type {\n",
       "        vertical-align: middle;\n",
       "    }\n",
       "\n",
       "    .dataframe tbody tr th {\n",
       "        vertical-align: top;\n",
       "    }\n",
       "\n",
       "    .dataframe thead th {\n",
       "        text-align: right;\n",
       "    }\n",
       "</style>\n",
       "<table border=\"1\" class=\"dataframe\">\n",
       "  <thead>\n",
       "    <tr style=\"text-align: right;\">\n",
       "      <th></th>\n",
       "      <th>submission_time</th>\n",
       "      <th>scheme</th>\n",
       "      <th>host</th>\n",
       "      <th>path</th>\n",
       "      <th>file</th>\n",
       "      <th>file_name</th>\n",
       "      <th>file_extension</th>\n",
       "    </tr>\n",
       "  </thead>\n",
       "  <tbody>\n",
       "    <tr>\n",
       "      <th>0</th>\n",
       "      <td>2017-01-03 20:28:52</td>\n",
       "      <td>https</td>\n",
       "      <td>ckd.upgrad.com</td>\n",
       "      <td>UpGrad/73ba5189-94fd-44aa-88d3-6b36aaa69b02</td>\n",
       "      <td>DDA1610095.zip</td>\n",
       "      <td>DDA1610095</td>\n",
       "      <td>zip</td>\n",
       "    </tr>\n",
       "    <tr>\n",
       "      <th>1</th>\n",
       "      <td>2017-01-03 20:18:21</td>\n",
       "      <td>https</td>\n",
       "      <td>ckd.upgrad.com</td>\n",
       "      <td>UpGrad/185242ff-7508-4cc4-afa3-5865733ba1d4</td>\n",
       "      <td>DDA1610288.zip</td>\n",
       "      <td>DDA1610288</td>\n",
       "      <td>zip</td>\n",
       "    </tr>\n",
       "    <tr>\n",
       "      <th>2</th>\n",
       "      <td>2017-01-03 22:37:08</td>\n",
       "      <td>https</td>\n",
       "      <td>ckd.upgrad.com</td>\n",
       "      <td>UpGrad/a353d129-c100-4342-aa95-a7018ff93150</td>\n",
       "      <td>DDA1610106.zip</td>\n",
       "      <td>DDA1610106</td>\n",
       "      <td>zip</td>\n",
       "    </tr>\n",
       "    <tr>\n",
       "      <th>3</th>\n",
       "      <td>2017-01-02 21:43:19</td>\n",
       "      <td>https</td>\n",
       "      <td>ckd.upgrad.com</td>\n",
       "      <td>UpGrad/002fc912-faa1-4948-9358-fcdabfd7669c</td>\n",
       "      <td>DDA1610261.zip</td>\n",
       "      <td>DDA1610261</td>\n",
       "      <td>zip</td>\n",
       "    </tr>\n",
       "    <tr>\n",
       "      <th>4</th>\n",
       "      <td>2017-01-03 15:27:49</td>\n",
       "      <td>https</td>\n",
       "      <td>ckd.upgrad.com</td>\n",
       "      <td>UpGrad/25cbc4a4-6d49-4ffa-9bf1-06bdb1a7cf8f</td>\n",
       "      <td>DDA1610028.zip</td>\n",
       "      <td>DDA1610028</td>\n",
       "      <td>zip</td>\n",
       "    </tr>\n",
       "  </tbody>\n",
       "</table>\n",
       "</div>"
      ],
      "text/plain": [
       "      submission_time scheme            host  \\\n",
       "0 2017-01-03 20:28:52  https  ckd.upgrad.com   \n",
       "1 2017-01-03 20:18:21  https  ckd.upgrad.com   \n",
       "2 2017-01-03 22:37:08  https  ckd.upgrad.com   \n",
       "3 2017-01-02 21:43:19  https  ckd.upgrad.com   \n",
       "4 2017-01-03 15:27:49  https  ckd.upgrad.com   \n",
       "\n",
       "                                          path            file   file_name  \\\n",
       "0  UpGrad/73ba5189-94fd-44aa-88d3-6b36aaa69b02  DDA1610095.zip  DDA1610095   \n",
       "1  UpGrad/185242ff-7508-4cc4-afa3-5865733ba1d4  DDA1610288.zip  DDA1610288   \n",
       "2  UpGrad/a353d129-c100-4342-aa95-a7018ff93150  DDA1610106.zip  DDA1610106   \n",
       "3  UpGrad/002fc912-faa1-4948-9358-fcdabfd7669c  DDA1610261.zip  DDA1610261   \n",
       "4  UpGrad/25cbc4a4-6d49-4ffa-9bf1-06bdb1a7cf8f  DDA1610028.zip  DDA1610028   \n",
       "\n",
       "  file_extension  \n",
       "0            zip  \n",
       "1            zip  \n",
       "2            zip  \n",
       "3            zip  \n",
       "4            zip  "
      ]
     },
     "execution_count": 49,
     "metadata": {},
     "output_type": "execute_result"
    }
   ],
   "source": [
    "df[[\n",
    "    'scheme',\n",
    "    'host',\n",
    "    'path',\n",
    "    'file',\n",
    "    'file_name',\n",
    "    'file_extension'\n",
    "]] = df['submission'].apply(lambda x: pd.Series(getUrlParts(x)))\n",
    "df.drop(columns=['submission'], inplace=True)\n",
    "df.head()"
   ]
  },
  {
   "cell_type": "code",
   "execution_count": 56,
   "metadata": {},
   "outputs": [
    {
     "data": {
      "text/plain": [
       "file_extension\n",
       "zip    95.454545\n",
       "R       3.535354\n",
       "7z      1.010101\n",
       "Name: count, dtype: float64"
      ]
     },
     "execution_count": 56,
     "metadata": {},
     "output_type": "execute_result"
    }
   ],
   "source": [
    "df['file_extension'].value_counts()*100/df.shape[0]"
   ]
  },
  {
   "cell_type": "code",
   "execution_count": 59,
   "metadata": {},
   "outputs": [
    {
     "name": "stdout",
     "output_type": "stream",
     "text": [
      "2017-01-03 23:59:59\n",
      "2017-01-09 23:59:00\n"
     ]
    }
   ],
   "source": [
    "import datetime as dt\n",
    "soft_deadline = dt.datetime(2017, 1, 3, 23, 59, 59)\n",
    "hard_deadline = dt.datetime(2017, 1, 9, 23, 59, 0)\n",
    "print(soft_deadline)\n",
    "print(hard_deadline)"
   ]
  },
  {
   "cell_type": "code",
   "execution_count": 61,
   "metadata": {},
   "outputs": [
    {
     "data": {
      "text/plain": [
       "(44, 7)"
      ]
     },
     "execution_count": 61,
     "metadata": {},
     "output_type": "execute_result"
    }
   ],
   "source": [
    "row_condition = df['submission_time'] > soft_deadline\n",
    "df[row_condition].shape"
   ]
  },
  {
   "cell_type": "code",
   "execution_count": 62,
   "metadata": {},
   "outputs": [
    {
     "data": {
      "text/html": [
       "<div>\n",
       "<style scoped>\n",
       "    .dataframe tbody tr th:only-of-type {\n",
       "        vertical-align: middle;\n",
       "    }\n",
       "\n",
       "    .dataframe tbody tr th {\n",
       "        vertical-align: top;\n",
       "    }\n",
       "\n",
       "    .dataframe thead th {\n",
       "        text-align: right;\n",
       "    }\n",
       "</style>\n",
       "<table border=\"1\" class=\"dataframe\">\n",
       "  <thead>\n",
       "    <tr style=\"text-align: right;\">\n",
       "      <th></th>\n",
       "      <th>submission_time</th>\n",
       "      <th>scheme</th>\n",
       "      <th>host</th>\n",
       "      <th>path</th>\n",
       "      <th>file</th>\n",
       "      <th>file_name</th>\n",
       "      <th>file_extension</th>\n",
       "      <th>submission_date</th>\n",
       "    </tr>\n",
       "  </thead>\n",
       "  <tbody>\n",
       "    <tr>\n",
       "      <th>0</th>\n",
       "      <td>2017-01-03 20:28:52</td>\n",
       "      <td>https</td>\n",
       "      <td>ckd.upgrad.com</td>\n",
       "      <td>UpGrad/73ba5189-94fd-44aa-88d3-6b36aaa69b02</td>\n",
       "      <td>DDA1610095.zip</td>\n",
       "      <td>DDA1610095</td>\n",
       "      <td>zip</td>\n",
       "      <td>2017-01-03</td>\n",
       "    </tr>\n",
       "    <tr>\n",
       "      <th>1</th>\n",
       "      <td>2017-01-03 20:18:21</td>\n",
       "      <td>https</td>\n",
       "      <td>ckd.upgrad.com</td>\n",
       "      <td>UpGrad/185242ff-7508-4cc4-afa3-5865733ba1d4</td>\n",
       "      <td>DDA1610288.zip</td>\n",
       "      <td>DDA1610288</td>\n",
       "      <td>zip</td>\n",
       "      <td>2017-01-03</td>\n",
       "    </tr>\n",
       "    <tr>\n",
       "      <th>2</th>\n",
       "      <td>2017-01-03 22:37:08</td>\n",
       "      <td>https</td>\n",
       "      <td>ckd.upgrad.com</td>\n",
       "      <td>UpGrad/a353d129-c100-4342-aa95-a7018ff93150</td>\n",
       "      <td>DDA1610106.zip</td>\n",
       "      <td>DDA1610106</td>\n",
       "      <td>zip</td>\n",
       "      <td>2017-01-03</td>\n",
       "    </tr>\n",
       "    <tr>\n",
       "      <th>3</th>\n",
       "      <td>2017-01-02 21:43:19</td>\n",
       "      <td>https</td>\n",
       "      <td>ckd.upgrad.com</td>\n",
       "      <td>UpGrad/002fc912-faa1-4948-9358-fcdabfd7669c</td>\n",
       "      <td>DDA1610261.zip</td>\n",
       "      <td>DDA1610261</td>\n",
       "      <td>zip</td>\n",
       "      <td>2017-01-02</td>\n",
       "    </tr>\n",
       "    <tr>\n",
       "      <th>4</th>\n",
       "      <td>2017-01-03 15:27:49</td>\n",
       "      <td>https</td>\n",
       "      <td>ckd.upgrad.com</td>\n",
       "      <td>UpGrad/25cbc4a4-6d49-4ffa-9bf1-06bdb1a7cf8f</td>\n",
       "      <td>DDA1610028.zip</td>\n",
       "      <td>DDA1610028</td>\n",
       "      <td>zip</td>\n",
       "      <td>2017-01-03</td>\n",
       "    </tr>\n",
       "  </tbody>\n",
       "</table>\n",
       "</div>"
      ],
      "text/plain": [
       "      submission_time scheme            host  \\\n",
       "0 2017-01-03 20:28:52  https  ckd.upgrad.com   \n",
       "1 2017-01-03 20:18:21  https  ckd.upgrad.com   \n",
       "2 2017-01-03 22:37:08  https  ckd.upgrad.com   \n",
       "3 2017-01-02 21:43:19  https  ckd.upgrad.com   \n",
       "4 2017-01-03 15:27:49  https  ckd.upgrad.com   \n",
       "\n",
       "                                          path            file   file_name  \\\n",
       "0  UpGrad/73ba5189-94fd-44aa-88d3-6b36aaa69b02  DDA1610095.zip  DDA1610095   \n",
       "1  UpGrad/185242ff-7508-4cc4-afa3-5865733ba1d4  DDA1610288.zip  DDA1610288   \n",
       "2  UpGrad/a353d129-c100-4342-aa95-a7018ff93150  DDA1610106.zip  DDA1610106   \n",
       "3  UpGrad/002fc912-faa1-4948-9358-fcdabfd7669c  DDA1610261.zip  DDA1610261   \n",
       "4  UpGrad/25cbc4a4-6d49-4ffa-9bf1-06bdb1a7cf8f  DDA1610028.zip  DDA1610028   \n",
       "\n",
       "  file_extension submission_date  \n",
       "0            zip      2017-01-03  \n",
       "1            zip      2017-01-03  \n",
       "2            zip      2017-01-03  \n",
       "3            zip      2017-01-02  \n",
       "4            zip      2017-01-03  "
      ]
     },
     "execution_count": 62,
     "metadata": {},
     "output_type": "execute_result"
    }
   ],
   "source": [
    "df['submission_date'] = df['submission_time'].dt.date\n",
    "df.head()"
   ]
  },
  {
   "cell_type": "code",
   "execution_count": 63,
   "metadata": {},
   "outputs": [
    {
     "data": {
      "text/plain": [
       "submission_date\n",
       "2017-01-03    120\n",
       "2017-01-09     21\n",
       "2017-01-02     14\n",
       "2017-01-04     12\n",
       "2016-12-30      6\n",
       "2017-01-01      6\n",
       "2017-01-08      3\n",
       "2017-01-10      3\n",
       "2016-12-29      2\n",
       "2016-12-28      2\n",
       "2017-01-07      2\n",
       "2017-01-17      1\n",
       "2017-02-03      1\n",
       "2016-12-21      1\n",
       "2017-01-06      1\n",
       "2016-11-19      1\n",
       "2016-12-31      1\n",
       "2016-12-19      1\n",
       "Name: count, dtype: int64"
      ]
     },
     "execution_count": 63,
     "metadata": {},
     "output_type": "execute_result"
    }
   ],
   "source": [
    "df['submission_date'].value_counts()"
   ]
  },
  {
   "cell_type": "code",
   "execution_count": 64,
   "metadata": {},
   "outputs": [
    {
     "data": {
      "text/html": [
       "<div>\n",
       "<style scoped>\n",
       "    .dataframe tbody tr th:only-of-type {\n",
       "        vertical-align: middle;\n",
       "    }\n",
       "\n",
       "    .dataframe tbody tr th {\n",
       "        vertical-align: top;\n",
       "    }\n",
       "\n",
       "    .dataframe thead th {\n",
       "        text-align: right;\n",
       "    }\n",
       "</style>\n",
       "<table border=\"1\" class=\"dataframe\">\n",
       "  <thead>\n",
       "    <tr style=\"text-align: right;\">\n",
       "      <th></th>\n",
       "      <th>submission_time</th>\n",
       "      <th>scheme</th>\n",
       "      <th>host</th>\n",
       "      <th>path</th>\n",
       "      <th>file</th>\n",
       "      <th>file_name</th>\n",
       "      <th>file_extension</th>\n",
       "      <th>submission_date</th>\n",
       "      <th>hour</th>\n",
       "    </tr>\n",
       "  </thead>\n",
       "  <tbody>\n",
       "    <tr>\n",
       "      <th>0</th>\n",
       "      <td>2017-01-03 20:28:52</td>\n",
       "      <td>https</td>\n",
       "      <td>ckd.upgrad.com</td>\n",
       "      <td>UpGrad/73ba5189-94fd-44aa-88d3-6b36aaa69b02</td>\n",
       "      <td>DDA1610095.zip</td>\n",
       "      <td>DDA1610095</td>\n",
       "      <td>zip</td>\n",
       "      <td>2017-01-03</td>\n",
       "      <td>20</td>\n",
       "    </tr>\n",
       "    <tr>\n",
       "      <th>1</th>\n",
       "      <td>2017-01-03 20:18:21</td>\n",
       "      <td>https</td>\n",
       "      <td>ckd.upgrad.com</td>\n",
       "      <td>UpGrad/185242ff-7508-4cc4-afa3-5865733ba1d4</td>\n",
       "      <td>DDA1610288.zip</td>\n",
       "      <td>DDA1610288</td>\n",
       "      <td>zip</td>\n",
       "      <td>2017-01-03</td>\n",
       "      <td>20</td>\n",
       "    </tr>\n",
       "    <tr>\n",
       "      <th>2</th>\n",
       "      <td>2017-01-03 22:37:08</td>\n",
       "      <td>https</td>\n",
       "      <td>ckd.upgrad.com</td>\n",
       "      <td>UpGrad/a353d129-c100-4342-aa95-a7018ff93150</td>\n",
       "      <td>DDA1610106.zip</td>\n",
       "      <td>DDA1610106</td>\n",
       "      <td>zip</td>\n",
       "      <td>2017-01-03</td>\n",
       "      <td>22</td>\n",
       "    </tr>\n",
       "    <tr>\n",
       "      <th>3</th>\n",
       "      <td>2017-01-02 21:43:19</td>\n",
       "      <td>https</td>\n",
       "      <td>ckd.upgrad.com</td>\n",
       "      <td>UpGrad/002fc912-faa1-4948-9358-fcdabfd7669c</td>\n",
       "      <td>DDA1610261.zip</td>\n",
       "      <td>DDA1610261</td>\n",
       "      <td>zip</td>\n",
       "      <td>2017-01-02</td>\n",
       "      <td>21</td>\n",
       "    </tr>\n",
       "    <tr>\n",
       "      <th>4</th>\n",
       "      <td>2017-01-03 15:27:49</td>\n",
       "      <td>https</td>\n",
       "      <td>ckd.upgrad.com</td>\n",
       "      <td>UpGrad/25cbc4a4-6d49-4ffa-9bf1-06bdb1a7cf8f</td>\n",
       "      <td>DDA1610028.zip</td>\n",
       "      <td>DDA1610028</td>\n",
       "      <td>zip</td>\n",
       "      <td>2017-01-03</td>\n",
       "      <td>15</td>\n",
       "    </tr>\n",
       "  </tbody>\n",
       "</table>\n",
       "</div>"
      ],
      "text/plain": [
       "      submission_time scheme            host  \\\n",
       "0 2017-01-03 20:28:52  https  ckd.upgrad.com   \n",
       "1 2017-01-03 20:18:21  https  ckd.upgrad.com   \n",
       "2 2017-01-03 22:37:08  https  ckd.upgrad.com   \n",
       "3 2017-01-02 21:43:19  https  ckd.upgrad.com   \n",
       "4 2017-01-03 15:27:49  https  ckd.upgrad.com   \n",
       "\n",
       "                                          path            file   file_name  \\\n",
       "0  UpGrad/73ba5189-94fd-44aa-88d3-6b36aaa69b02  DDA1610095.zip  DDA1610095   \n",
       "1  UpGrad/185242ff-7508-4cc4-afa3-5865733ba1d4  DDA1610288.zip  DDA1610288   \n",
       "2  UpGrad/a353d129-c100-4342-aa95-a7018ff93150  DDA1610106.zip  DDA1610106   \n",
       "3  UpGrad/002fc912-faa1-4948-9358-fcdabfd7669c  DDA1610261.zip  DDA1610261   \n",
       "4  UpGrad/25cbc4a4-6d49-4ffa-9bf1-06bdb1a7cf8f  DDA1610028.zip  DDA1610028   \n",
       "\n",
       "  file_extension submission_date  hour  \n",
       "0            zip      2017-01-03    20  \n",
       "1            zip      2017-01-03    20  \n",
       "2            zip      2017-01-03    22  \n",
       "3            zip      2017-01-02    21  \n",
       "4            zip      2017-01-03    15  "
      ]
     },
     "execution_count": 64,
     "metadata": {},
     "output_type": "execute_result"
    }
   ],
   "source": [
    "df['hour'] = df['submission_time'].dt.hour\n",
    "df.head()"
   ]
  },
  {
   "cell_type": "code",
   "execution_count": 68,
   "metadata": {},
   "outputs": [
    {
     "data": {
      "text/plain": [
       "<Axes: ylabel='Frequency'>"
      ]
     },
     "execution_count": 68,
     "metadata": {},
     "output_type": "execute_result"
    },
    {
     "data": {
      "image/png": "[encoded data removed]",
      "text/plain": [
       "<Figure size 640x480 with 1 Axes>"
      ]
     },
     "metadata": {},
     "output_type": "display_data"
    }
   ],
   "source": [
    "df['hour'].plot.hist()"
   ]
  }
 ],
 "metadata": {
  "kernelspec": {
   "display_name": "Python 3",
   "language": "python",
   "name": "python3"
  },
  "language_info": {
   "codemirror_mode": {
    "name": "ipython",
    "version": 3
   },
   "file_extension": ".py",
   "mimetype": "text/x-python",
   "name": "python",
   "nbconvert_exporter": "python",
   "pygments_lexer": "ipython3",
   "version": "3.9.6"
  }
 },
 "nbformat": 4,
 "nbformat_minor": 2
}
