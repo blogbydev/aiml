{
 "cells": [
  {
   "cell_type": "code",
   "execution_count": 1,
   "id": "bbcde453-fbc3-4b80-a663-01212599fa9c",
   "metadata": {
    "id": "bbcde453-fbc3-4b80-a663-01212599fa9c"
   },
   "outputs": [
    {
     "name": "stderr",
     "output_type": "stream",
     "text": [
      "2024-12-02 20:54:50.266873: I tensorflow/core/platform/cpu_feature_guard.cc:210] This TensorFlow binary is optimized to use available CPU instructions in performance-critical operations.\n",
      "To enable the following instructions: AVX2 FMA, in other operations, rebuild TensorFlow with the appropriate compiler flags.\n"
     ]
    }
   ],
   "source": [
    "import pandas as pd\n",
    "import numpy as np\n",
    "import sklearn\n",
    "import tensorflow as tf\n",
    "from tensorflow import keras\n",
    "from sklearn.preprocessing import StandardScaler\n",
    "from sklearn.metrics import accuracy_score"
   ]
  },
  {
   "cell_type": "code",
   "execution_count": 22,
   "id": "W-nUIQ8_LowE",
   "metadata": {
    "id": "W-nUIQ8_LowE"
   },
   "outputs": [],
   "source": [
    "# In case of errors, check if you are using the correct versions of the libraries. This notebook works on the following versions of libraries. Specify these versions if you get version related errors.\n",
    "# TensorFlow version: 2.17.0\n",
    "# Pandas version: 2.1.4\n",
    "# NumPy version: 1.26.4\n",
    "# Scikit-learn version: 1.5.2\n",
    "# Keras version: 3.4.1\n",
    "\n",
    "# print(\"TensorFlow version:\", tf.__version__)\n",
    "# print(\"Pandas version:\", pd.__version__)\n",
    "# print(\"NumPy version:\", np.__version__)\n",
    "# print(\"Scikit-learn version:\", sklearn.__version__)\n",
    "# print(\"Keras version:\", tf.keras.__version__)"
   ]
  },
  {
   "cell_type": "markdown",
   "id": "173476da-ac46-435c-81bb-858825c1908d",
   "metadata": {
    "id": "173476da-ac46-435c-81bb-858825c1908d"
   },
   "source": [
    "## Part 1: Import the Housing data and do feature transformations"
   ]
  },
  {
   "cell_type": "code",
   "execution_count": 3,
   "id": "999b20bb-ff06-47ce-9824-3431ade3d628",
   "metadata": {
    "colab": {
     "base_uri": "https://localhost:8080/",
     "height": 206
    },
    "id": "999b20bb-ff06-47ce-9824-3431ade3d628",
    "outputId": "c7ed0b52-c0c0-44e2-8ff1-ef1df91d8188"
   },
   "outputs": [
    {
     "data": {
      "text/html": [
       "<div>\n",
       "<style scoped>\n",
       "    .dataframe tbody tr th:only-of-type {\n",
       "        vertical-align: middle;\n",
       "    }\n",
       "\n",
       "    .dataframe tbody tr th {\n",
       "        vertical-align: top;\n",
       "    }\n",
       "\n",
       "    .dataframe thead th {\n",
       "        text-align: right;\n",
       "    }\n",
       "</style>\n",
       "<table border=\"1\" class=\"dataframe\">\n",
       "  <thead>\n",
       "    <tr style=\"text-align: right;\">\n",
       "      <th></th>\n",
       "      <th>bedrooms</th>\n",
       "      <th>sqft_living</th>\n",
       "      <th>price</th>\n",
       "    </tr>\n",
       "  </thead>\n",
       "  <tbody>\n",
       "    <tr>\n",
       "      <th>0</th>\n",
       "      <td>3</td>\n",
       "      <td>1340</td>\n",
       "      <td>313000</td>\n",
       "    </tr>\n",
       "    <tr>\n",
       "      <th>1</th>\n",
       "      <td>5</td>\n",
       "      <td>3650</td>\n",
       "      <td>2384000</td>\n",
       "    </tr>\n",
       "    <tr>\n",
       "      <th>2</th>\n",
       "      <td>3</td>\n",
       "      <td>1930</td>\n",
       "      <td>342000</td>\n",
       "    </tr>\n",
       "    <tr>\n",
       "      <th>3</th>\n",
       "      <td>3</td>\n",
       "      <td>2000</td>\n",
       "      <td>420000</td>\n",
       "    </tr>\n",
       "    <tr>\n",
       "      <th>4</th>\n",
       "      <td>4</td>\n",
       "      <td>1940</td>\n",
       "      <td>550000</td>\n",
       "    </tr>\n",
       "  </tbody>\n",
       "</table>\n",
       "</div>"
      ],
      "text/plain": [
       "   bedrooms  sqft_living    price\n",
       "0         3         1340   313000\n",
       "1         5         3650  2384000\n",
       "2         3         1930   342000\n",
       "3         3         2000   420000\n",
       "4         4         1940   550000"
      ]
     },
     "execution_count": 3,
     "metadata": {},
     "output_type": "execute_result"
    }
   ],
   "source": [
    "df= pd.read_csv('house_price_full+(1).csv')\n",
    "df.head()"
   ]
  },
  {
   "cell_type": "code",
   "execution_count": 4,
   "id": "9ac1d055-4622-4fc9-a2a3-d463bcf8befd",
   "metadata": {
    "id": "9ac1d055-4622-4fc9-a2a3-d463bcf8befd"
   },
   "outputs": [],
   "source": [
    "X = df.copy()\n",
    "# Remove target\n",
    "Y = X.pop('price')\n",
    "\n",
    "# perform a scaler transform of the input data\n",
    "scaler = StandardScaler()\n",
    "X = scaler.fit_transform(X)\n",
    "\n",
    "# perform log transformation of target variable (For Sandeep: Is this needed?)\n",
    "Y = np.log(Y)"
   ]
  },
  {
   "cell_type": "code",
   "execution_count": 4,
   "id": "82b4c4a9-00c6-42d5-aede-b01c0faeb61a",
   "metadata": {
    "colab": {
     "base_uri": "https://localhost:8080/",
     "height": 423
    },
    "id": "82b4c4a9-00c6-42d5-aede-b01c0faeb61a",
    "outputId": "361d9eea-cf79-448d-a9b5-7a7b5985ef9d"
   },
   "outputs": [
    {
     "data": {
      "application/vnd.google.colaboratory.intrinsic+json": {
       "summary": "{\n  \"name\": \"df_scaled\",\n  \"rows\": 499,\n  \"fields\": [\n    {\n      \"column\": 0,\n      \"properties\": {\n        \"dtype\": \"number\",\n        \"std\": 1.0010035125455423,\n        \"min\": -2.5421305575199207,\n        \"max\": 5.8936011013491765,\n        \"num_unique_values\": 8,\n        \"samples\": [\n          1.6757352719146275,\n          3.7846681866319014,\n          -0.43319764280264655\n        ],\n        \"semantic_type\": \"\",\n        \"description\": \"\"\n      }\n    },\n    {\n      \"column\": 1,\n      \"properties\": {\n        \"dtype\": \"number\",\n        \"std\": 1.0010035125455425,\n        \"min\": -1.3465754506172904,\n        \"max\": 10.921707860114209,\n        \"num_unique_values\": 254,\n        \"samples\": [\n          -0.714978961921285,\n          -0.7436878932256488,\n          0.9214301224274564\n        ],\n        \"semantic_type\": \"\",\n        \"description\": \"\"\n      }\n    }\n  ]\n}",
       "type": "dataframe",
       "variable_name": "df_scaled"
      },
      "text/html": [
       "\n",
       "  <div id=\"df-5954b357-54a0-4b5f-941a-574d86a5bfd6\" class=\"colab-df-container\">\n",
       "    <div>\n",
       "<style scoped>\n",
       "    .dataframe tbody tr th:only-of-type {\n",
       "        vertical-align: middle;\n",
       "    }\n",
       "\n",
       "    .dataframe tbody tr th {\n",
       "        vertical-align: top;\n",
       "    }\n",
       "\n",
       "    .dataframe thead th {\n",
       "        text-align: right;\n",
       "    }\n",
       "</style>\n",
       "<table border=\"1\" class=\"dataframe\">\n",
       "  <thead>\n",
       "    <tr style=\"text-align: right;\">\n",
       "      <th></th>\n",
       "      <th>0</th>\n",
       "      <th>1</th>\n",
       "    </tr>\n",
       "  </thead>\n",
       "  <tbody>\n",
       "    <tr>\n",
       "      <th>0</th>\n",
       "      <td>-0.433198</td>\n",
       "      <td>-0.753258</td>\n",
       "    </tr>\n",
       "    <tr>\n",
       "      <th>1</th>\n",
       "      <td>1.675735</td>\n",
       "      <td>1.457330</td>\n",
       "    </tr>\n",
       "    <tr>\n",
       "      <th>2</th>\n",
       "      <td>-0.433198</td>\n",
       "      <td>-0.188649</td>\n",
       "    </tr>\n",
       "    <tr>\n",
       "      <th>3</th>\n",
       "      <td>-0.433198</td>\n",
       "      <td>-0.121661</td>\n",
       "    </tr>\n",
       "    <tr>\n",
       "      <th>4</th>\n",
       "      <td>0.621269</td>\n",
       "      <td>-0.179079</td>\n",
       "    </tr>\n",
       "    <tr>\n",
       "      <th>...</th>\n",
       "      <td>...</td>\n",
       "      <td>...</td>\n",
       "    </tr>\n",
       "    <tr>\n",
       "      <th>494</th>\n",
       "      <td>0.621269</td>\n",
       "      <td>0.873582</td>\n",
       "    </tr>\n",
       "    <tr>\n",
       "      <th>495</th>\n",
       "      <td>1.675735</td>\n",
       "      <td>2.299459</td>\n",
       "    </tr>\n",
       "    <tr>\n",
       "      <th>496</th>\n",
       "      <td>-0.433198</td>\n",
       "      <td>-0.724549</td>\n",
       "    </tr>\n",
       "    <tr>\n",
       "      <th>497</th>\n",
       "      <td>-0.433198</td>\n",
       "      <td>-0.179079</td>\n",
       "    </tr>\n",
       "    <tr>\n",
       "      <th>498</th>\n",
       "      <td>-0.433198</td>\n",
       "      <td>-1.040347</td>\n",
       "    </tr>\n",
       "  </tbody>\n",
       "</table>\n",
       "<p>499 rows × 2 columns</p>\n",
       "</div>\n",
       "    <div class=\"colab-df-buttons\">\n",
       "\n",
       "  <div class=\"colab-df-container\">\n",
       "    <button class=\"colab-df-convert\" onclick=\"convertToInteractive('df-5954b357-54a0-4b5f-941a-574d86a5bfd6')\"\n",
       "            title=\"Convert this dataframe to an interactive table.\"\n",
       "            style=\"display:none;\">\n",
       "\n",
       "  <svg xmlns=\"http://www.w3.org/2000/svg\" height=\"24px\" viewBox=\"0 -960 960 960\">\n",
       "    <path d=\"M120-120v-720h720v720H120Zm60-500h600v-160H180v160Zm220 220h160v-160H400v160Zm0 220h160v-160H400v160ZM180-400h160v-160H180v160Zm440 0h160v-160H620v160ZM180-180h160v-160H180v160Zm440 0h160v-160H620v160Z\"/>\n",
       "  </svg>\n",
       "    </button>\n",
       "\n",
       "  <style>\n",
       "    .colab-df-container {\n",
       "      display:flex;\n",
       "      gap: 12px;\n",
       "    }\n",
       "\n",
       "    .colab-df-convert {\n",
       "      background-color: #E8F0FE;\n",
       "      border: none;\n",
       "      border-radius: 50%;\n",
       "      cursor: pointer;\n",
       "      display: none;\n",
       "      fill: #1967D2;\n",
       "      height: 32px;\n",
       "      padding: 0 0 0 0;\n",
       "      width: 32px;\n",
       "    }\n",
       "\n",
       "    .colab-df-convert:hover {\n",
       "      background-color: #E2EBFA;\n",
       "      box-shadow: 0px 1px 2px rgba(60, 64, 67, 0.3), 0px 1px 3px 1px rgba(60, 64, 67, 0.15);\n",
       "      fill: #174EA6;\n",
       "    }\n",
       "\n",
       "    .colab-df-buttons div {\n",
       "      margin-bottom: 4px;\n",
       "    }\n",
       "\n",
       "    [theme=dark] .colab-df-convert {\n",
       "      background-color: #3B4455;\n",
       "      fill: #D2E3FC;\n",
       "    }\n",
       "\n",
       "    [theme=dark] .colab-df-convert:hover {\n",
       "      background-color: #434B5C;\n",
       "      box-shadow: 0px 1px 3px 1px rgba(0, 0, 0, 0.15);\n",
       "      filter: drop-shadow(0px 1px 2px rgba(0, 0, 0, 0.3));\n",
       "      fill: #FFFFFF;\n",
       "    }\n",
       "  </style>\n",
       "\n",
       "    <script>\n",
       "      const buttonEl =\n",
       "        document.querySelector('#df-5954b357-54a0-4b5f-941a-574d86a5bfd6 button.colab-df-convert');\n",
       "      buttonEl.style.display =\n",
       "        google.colab.kernel.accessAllowed ? 'block' : 'none';\n",
       "\n",
       "      async function convertToInteractive(key) {\n",
       "        const element = document.querySelector('#df-5954b357-54a0-4b5f-941a-574d86a5bfd6');\n",
       "        const dataTable =\n",
       "          await google.colab.kernel.invokeFunction('convertToInteractive',\n",
       "                                                    [key], {});\n",
       "        if (!dataTable) return;\n",
       "\n",
       "        const docLinkHtml = 'Like what you see? Visit the ' +\n",
       "          '<a target=\"_blank\" href=https://colab.research.google.com/notebooks/data_table.ipynb>data table notebook</a>'\n",
       "          + ' to learn more about interactive tables.';\n",
       "        element.innerHTML = '';\n",
       "        dataTable['output_type'] = 'display_data';\n",
       "        await google.colab.output.renderOutput(dataTable, element);\n",
       "        const docLink = document.createElement('div');\n",
       "        docLink.innerHTML = docLinkHtml;\n",
       "        element.appendChild(docLink);\n",
       "      }\n",
       "    </script>\n",
       "  </div>\n",
       "\n",
       "\n",
       "<div id=\"df-e1575927-f40d-4e6e-b968-342117ac4deb\">\n",
       "  <button class=\"colab-df-quickchart\" onclick=\"quickchart('df-e1575927-f40d-4e6e-b968-342117ac4deb')\"\n",
       "            title=\"Suggest charts\"\n",
       "            style=\"display:none;\">\n",
       "\n",
       "<svg xmlns=\"http://www.w3.org/2000/svg\" height=\"24px\"viewBox=\"0 0 24 24\"\n",
       "     width=\"24px\">\n",
       "    <g>\n",
       "        <path d=\"M19 3H5c-1.1 0-2 .9-2 2v14c0 1.1.9 2 2 2h14c1.1 0 2-.9 2-2V5c0-1.1-.9-2-2-2zM9 17H7v-7h2v7zm4 0h-2V7h2v10zm4 0h-2v-4h2v4z\"/>\n",
       "    </g>\n",
       "</svg>\n",
       "  </button>\n",
       "\n",
       "<style>\n",
       "  .colab-df-quickchart {\n",
       "      --bg-color: #E8F0FE;\n",
       "      --fill-color: #1967D2;\n",
       "      --hover-bg-color: #E2EBFA;\n",
       "      --hover-fill-color: #174EA6;\n",
       "      --disabled-fill-color: #AAA;\n",
       "      --disabled-bg-color: #DDD;\n",
       "  }\n",
       "\n",
       "  [theme=dark] .colab-df-quickchart {\n",
       "      --bg-color: #3B4455;\n",
       "      --fill-color: #D2E3FC;\n",
       "      --hover-bg-color: #434B5C;\n",
       "      --hover-fill-color: #FFFFFF;\n",
       "      --disabled-bg-color: #3B4455;\n",
       "      --disabled-fill-color: #666;\n",
       "  }\n",
       "\n",
       "  .colab-df-quickchart {\n",
       "    background-color: var(--bg-color);\n",
       "    border: none;\n",
       "    border-radius: 50%;\n",
       "    cursor: pointer;\n",
       "    display: none;\n",
       "    fill: var(--fill-color);\n",
       "    height: 32px;\n",
       "    padding: 0;\n",
       "    width: 32px;\n",
       "  }\n",
       "\n",
       "  .colab-df-quickchart:hover {\n",
       "    background-color: var(--hover-bg-color);\n",
       "    box-shadow: 0 1px 2px rgba(60, 64, 67, 0.3), 0 1px 3px 1px rgba(60, 64, 67, 0.15);\n",
       "    fill: var(--button-hover-fill-color);\n",
       "  }\n",
       "\n",
       "  .colab-df-quickchart-complete:disabled,\n",
       "  .colab-df-quickchart-complete:disabled:hover {\n",
       "    background-color: var(--disabled-bg-color);\n",
       "    fill: var(--disabled-fill-color);\n",
       "    box-shadow: none;\n",
       "  }\n",
       "\n",
       "  .colab-df-spinner {\n",
       "    border: 2px solid var(--fill-color);\n",
       "    border-color: transparent;\n",
       "    border-bottom-color: var(--fill-color);\n",
       "    animation:\n",
       "      spin 1s steps(1) infinite;\n",
       "  }\n",
       "\n",
       "  @keyframes spin {\n",
       "    0% {\n",
       "      border-color: transparent;\n",
       "      border-bottom-color: var(--fill-color);\n",
       "      border-left-color: var(--fill-color);\n",
       "    }\n",
       "    20% {\n",
       "      border-color: transparent;\n",
       "      border-left-color: var(--fill-color);\n",
       "      border-top-color: var(--fill-color);\n",
       "    }\n",
       "    30% {\n",
       "      border-color: transparent;\n",
       "      border-left-color: var(--fill-color);\n",
       "      border-top-color: var(--fill-color);\n",
       "      border-right-color: var(--fill-color);\n",
       "    }\n",
       "    40% {\n",
       "      border-color: transparent;\n",
       "      border-right-color: var(--fill-color);\n",
       "      border-top-color: var(--fill-color);\n",
       "    }\n",
       "    60% {\n",
       "      border-color: transparent;\n",
       "      border-right-color: var(--fill-color);\n",
       "    }\n",
       "    80% {\n",
       "      border-color: transparent;\n",
       "      border-right-color: var(--fill-color);\n",
       "      border-bottom-color: var(--fill-color);\n",
       "    }\n",
       "    90% {\n",
       "      border-color: transparent;\n",
       "      border-bottom-color: var(--fill-color);\n",
       "    }\n",
       "  }\n",
       "</style>\n",
       "\n",
       "  <script>\n",
       "    async function quickchart(key) {\n",
       "      const quickchartButtonEl =\n",
       "        document.querySelector('#' + key + ' button');\n",
       "      quickchartButtonEl.disabled = true;  // To prevent multiple clicks.\n",
       "      quickchartButtonEl.classList.add('colab-df-spinner');\n",
       "      try {\n",
       "        const charts = await google.colab.kernel.invokeFunction(\n",
       "            'suggestCharts', [key], {});\n",
       "      } catch (error) {\n",
       "        console.error('Error during call to suggestCharts:', error);\n",
       "      }\n",
       "      quickchartButtonEl.classList.remove('colab-df-spinner');\n",
       "      quickchartButtonEl.classList.add('colab-df-quickchart-complete');\n",
       "    }\n",
       "    (() => {\n",
       "      let quickchartButtonEl =\n",
       "        document.querySelector('#df-e1575927-f40d-4e6e-b968-342117ac4deb button');\n",
       "      quickchartButtonEl.style.display =\n",
       "        google.colab.kernel.accessAllowed ? 'block' : 'none';\n",
       "    })();\n",
       "  </script>\n",
       "</div>\n",
       "\n",
       "  <div id=\"id_e792f604-c878-472a-918a-9772a81a974d\">\n",
       "    <style>\n",
       "      .colab-df-generate {\n",
       "        background-color: #E8F0FE;\n",
       "        border: none;\n",
       "        border-radius: 50%;\n",
       "        cursor: pointer;\n",
       "        display: none;\n",
       "        fill: #1967D2;\n",
       "        height: 32px;\n",
       "        padding: 0 0 0 0;\n",
       "        width: 32px;\n",
       "      }\n",
       "\n",
       "      .colab-df-generate:hover {\n",
       "        background-color: #E2EBFA;\n",
       "        box-shadow: 0px 1px 2px rgba(60, 64, 67, 0.3), 0px 1px 3px 1px rgba(60, 64, 67, 0.15);\n",
       "        fill: #174EA6;\n",
       "      }\n",
       "\n",
       "      [theme=dark] .colab-df-generate {\n",
       "        background-color: #3B4455;\n",
       "        fill: #D2E3FC;\n",
       "      }\n",
       "\n",
       "      [theme=dark] .colab-df-generate:hover {\n",
       "        background-color: #434B5C;\n",
       "        box-shadow: 0px 1px 3px 1px rgba(0, 0, 0, 0.15);\n",
       "        filter: drop-shadow(0px 1px 2px rgba(0, 0, 0, 0.3));\n",
       "        fill: #FFFFFF;\n",
       "      }\n",
       "    </style>\n",
       "    <button class=\"colab-df-generate\" onclick=\"generateWithVariable('df_scaled')\"\n",
       "            title=\"Generate code using this dataframe.\"\n",
       "            style=\"display:none;\">\n",
       "\n",
       "  <svg xmlns=\"http://www.w3.org/2000/svg\" height=\"24px\"viewBox=\"0 0 24 24\"\n",
       "       width=\"24px\">\n",
       "    <path d=\"M7,19H8.4L18.45,9,17,7.55,7,17.6ZM5,21V16.75L18.45,3.32a2,2,0,0,1,2.83,0l1.4,1.43a1.91,1.91,0,0,1,.58,1.4,1.91,1.91,0,0,1-.58,1.4L9.25,21ZM18.45,9,17,7.55Zm-12,3A5.31,5.31,0,0,0,4.9,8.1,5.31,5.31,0,0,0,1,6.5,5.31,5.31,0,0,0,4.9,4.9,5.31,5.31,0,0,0,6.5,1,5.31,5.31,0,0,0,8.1,4.9,5.31,5.31,0,0,0,12,6.5,5.46,5.46,0,0,0,6.5,12Z\"/>\n",
       "  </svg>\n",
       "    </button>\n",
       "    <script>\n",
       "      (() => {\n",
       "      const buttonEl =\n",
       "        document.querySelector('#id_e792f604-c878-472a-918a-9772a81a974d button.colab-df-generate');\n",
       "      buttonEl.style.display =\n",
       "        google.colab.kernel.accessAllowed ? 'block' : 'none';\n",
       "\n",
       "      buttonEl.onclick = () => {\n",
       "        google.colab.notebook.generateWithVariable('df_scaled');\n",
       "      }\n",
       "      })();\n",
       "    </script>\n",
       "  </div>\n",
       "\n",
       "    </div>\n",
       "  </div>\n"
      ],
      "text/plain": [
       "            0         1\n",
       "0   -0.433198 -0.753258\n",
       "1    1.675735  1.457330\n",
       "2   -0.433198 -0.188649\n",
       "3   -0.433198 -0.121661\n",
       "4    0.621269 -0.179079\n",
       "..        ...       ...\n",
       "494  0.621269  0.873582\n",
       "495  1.675735  2.299459\n",
       "496 -0.433198 -0.724549\n",
       "497 -0.433198 -0.179079\n",
       "498 -0.433198 -1.040347\n",
       "\n",
       "[499 rows x 2 columns]"
      ]
     },
     "execution_count": 4,
     "metadata": {},
     "output_type": "execute_result"
    }
   ],
   "source": [
    "df_scaled = pd.DataFrame(X)\n",
    "df_scaled"
   ]
  },
  {
   "cell_type": "code",
   "execution_count": 5,
   "id": "8034fbca-2081-4de3-9fd3-8e5d379b2cbf",
   "metadata": {
    "colab": {
     "base_uri": "https://localhost:8080/",
     "height": 458
    },
    "id": "8034fbca-2081-4de3-9fd3-8e5d379b2cbf",
    "outputId": "e259a705-587c-4fcd-ae07-dc96f9dac121"
   },
   "outputs": [
    {
     "data": {
      "text/plain": [
       "0      12.653958\n",
       "1      14.684290\n",
       "2      12.742566\n",
       "3      12.948010\n",
       "4      13.217674\n",
       "         ...    \n",
       "494    13.380102\n",
       "495    13.764217\n",
       "496    12.128111\n",
       "497    12.721886\n",
       "498    12.254863\n",
       "Name: price, Length: 499, dtype: float64"
      ]
     },
     "execution_count": 5,
     "metadata": {},
     "output_type": "execute_result"
    }
   ],
   "source": [
    "Y"
   ]
  },
  {
   "cell_type": "markdown",
   "id": "754adc57-4f6c-4b96-a348-77bd82a4b304",
   "metadata": {
    "id": "754adc57-4f6c-4b96-a348-77bd82a4b304"
   },
   "source": [
    "## Part 2: Create Model Using `keras`\n",
    "\n",
    "![](multiple_neurons.png)"
   ]
  },
  {
   "cell_type": "code",
   "execution_count": 6,
   "id": "9e7e3de3-c446-4fbe-be67-08c1431450d5",
   "metadata": {
    "id": "9e7e3de3-c446-4fbe-be67-08c1431450d5"
   },
   "outputs": [],
   "source": [
    "from tensorflow import keras"
   ]
  },
  {
   "cell_type": "code",
   "execution_count": 7,
   "id": "7bf2231d-a13c-4e82-aae9-597b3caae6c0",
   "metadata": {
    "colab": {
     "base_uri": "https://localhost:8080/",
     "height": 193
    },
    "id": "7bf2231d-a13c-4e82-aae9-597b3caae6c0",
    "outputId": "08c4fa72-0550-4c89-9c98-b8cd8e4590b5"
   },
   "outputs": [
    {
     "data": {
      "text/html": [
       "<pre style=\"white-space:pre;overflow-x:auto;line-height:normal;font-family:Menlo,'DejaVu Sans Mono',consolas,'Courier New',monospace\"><span style=\"font-weight: bold\">Model: \"sequential\"</span>\n",
       "</pre>\n"
      ],
      "text/plain": [
       "\u001b[1mModel: \"sequential\"\u001b[0m\n"
      ]
     },
     "metadata": {},
     "output_type": "display_data"
    },
    {
     "data": {
      "text/html": [
       "<pre style=\"white-space:pre;overflow-x:auto;line-height:normal;font-family:Menlo,'DejaVu Sans Mono',consolas,'Courier New',monospace\">┏━━━━━━━━━━━━━━━━━━━━━━━━━━━━━━━━━┳━━━━━━━━━━━━━━━━━━━━━━━━┳━━━━━━━━━━━━━━━┓\n",
       "┃<span style=\"font-weight: bold\"> Layer (type)                    </span>┃<span style=\"font-weight: bold\"> Output Shape           </span>┃<span style=\"font-weight: bold\">       Param # </span>┃\n",
       "┡━━━━━━━━━━━━━━━━━━━━━━━━━━━━━━━━━╇━━━━━━━━━━━━━━━━━━━━━━━━╇━━━━━━━━━━━━━━━┩\n",
       "│ dense (<span style=\"color: #0087ff; text-decoration-color: #0087ff\">Dense</span>)                   │ (<span style=\"color: #00d7ff; text-decoration-color: #00d7ff\">None</span>, <span style=\"color: #00af00; text-decoration-color: #00af00\">2</span>)              │             <span style=\"color: #00af00; text-decoration-color: #00af00\">6</span> │\n",
       "├─────────────────────────────────┼────────────────────────┼───────────────┤\n",
       "│ dense_1 (<span style=\"color: #0087ff; text-decoration-color: #0087ff\">Dense</span>)                 │ (<span style=\"color: #00d7ff; text-decoration-color: #00d7ff\">None</span>, <span style=\"color: #00af00; text-decoration-color: #00af00\">1</span>)              │             <span style=\"color: #00af00; text-decoration-color: #00af00\">3</span> │\n",
       "└─────────────────────────────────┴────────────────────────┴───────────────┘\n",
       "</pre>\n"
      ],
      "text/plain": [
       "┏━━━━━━━━━━━━━━━━━━━━━━━━━━━━━━━━━┳━━━━━━━━━━━━━━━━━━━━━━━━┳━━━━━━━━━━━━━━━┓\n",
       "┃\u001b[1m \u001b[0m\u001b[1mLayer (type)                   \u001b[0m\u001b[1m \u001b[0m┃\u001b[1m \u001b[0m\u001b[1mOutput Shape          \u001b[0m\u001b[1m \u001b[0m┃\u001b[1m \u001b[0m\u001b[1m      Param #\u001b[0m\u001b[1m \u001b[0m┃\n",
       "┡━━━━━━━━━━━━━━━━━━━━━━━━━━━━━━━━━╇━━━━━━━━━━━━━━━━━━━━━━━━╇━━━━━━━━━━━━━━━┩\n",
       "│ dense (\u001b[38;5;33mDense\u001b[0m)                   │ (\u001b[38;5;45mNone\u001b[0m, \u001b[38;5;34m2\u001b[0m)              │             \u001b[38;5;34m6\u001b[0m │\n",
       "├─────────────────────────────────┼────────────────────────┼───────────────┤\n",
       "│ dense_1 (\u001b[38;5;33mDense\u001b[0m)                 │ (\u001b[38;5;45mNone\u001b[0m, \u001b[38;5;34m1\u001b[0m)              │             \u001b[38;5;34m3\u001b[0m │\n",
       "└─────────────────────────────────┴────────────────────────┴───────────────┘\n"
      ]
     },
     "metadata": {},
     "output_type": "display_data"
    },
    {
     "data": {
      "text/html": [
       "<pre style=\"white-space:pre;overflow-x:auto;line-height:normal;font-family:Menlo,'DejaVu Sans Mono',consolas,'Courier New',monospace\"><span style=\"font-weight: bold\"> Total params: </span><span style=\"color: #00af00; text-decoration-color: #00af00\">9</span> (36.00 B)\n",
       "</pre>\n"
      ],
      "text/plain": [
       "\u001b[1m Total params: \u001b[0m\u001b[38;5;34m9\u001b[0m (36.00 B)\n"
      ]
     },
     "metadata": {},
     "output_type": "display_data"
    },
    {
     "data": {
      "text/html": [
       "<pre style=\"white-space:pre;overflow-x:auto;line-height:normal;font-family:Menlo,'DejaVu Sans Mono',consolas,'Courier New',monospace\"><span style=\"font-weight: bold\"> Trainable params: </span><span style=\"color: #00af00; text-decoration-color: #00af00\">9</span> (36.00 B)\n",
       "</pre>\n"
      ],
      "text/plain": [
       "\u001b[1m Trainable params: \u001b[0m\u001b[38;5;34m9\u001b[0m (36.00 B)\n"
      ]
     },
     "metadata": {},
     "output_type": "display_data"
    },
    {
     "data": {
      "text/html": [
       "<pre style=\"white-space:pre;overflow-x:auto;line-height:normal;font-family:Menlo,'DejaVu Sans Mono',consolas,'Courier New',monospace\"><span style=\"font-weight: bold\"> Non-trainable params: </span><span style=\"color: #00af00; text-decoration-color: #00af00\">0</span> (0.00 B)\n",
       "</pre>\n"
      ],
      "text/plain": [
       "\u001b[1m Non-trainable params: \u001b[0m\u001b[38;5;34m0\u001b[0m (0.00 B)\n"
      ]
     },
     "metadata": {},
     "output_type": "display_data"
    }
   ],
   "source": [
    "# model = keras.Sequential(\n",
    "#     [\n",
    "#         keras.layers.Dense(\n",
    "#             2, activation=\"sigmoid\", input_shape=(X.shape[-1],)\n",
    "#         ),\n",
    "#         keras.layers.Dense(1, activation=\"linear\")\n",
    "#     ]\n",
    "# )\n",
    "# model.summary()\n",
    "\n",
    "# Newer versions of Keras support this:\n",
    "model = keras.Sequential()\n",
    "model.add(keras.layers.Input(shape=(X.shape[-1],)))\n",
    "model.add(keras.layers.Dense(2, activation=\"sigmoid\"))\n",
    "model.add(keras.layers.Dense(1, activation=\"linear\"))\n",
    "model.summary()"
   ]
  },
  {
   "cell_type": "markdown",
   "id": "304a97ac-488e-44cf-b86b-b6f44dc81d72",
   "metadata": {
    "id": "304a97ac-488e-44cf-b86b-b6f44dc81d72"
   },
   "source": [
    "```python\n",
    "def random_init_params():\n",
    "    w1 = tf.Variable(tf.random.uniform((2, 2)))\n",
    "    b1 = tf.Variable(tf.random.uniform((1, 2)))\n",
    "    w2 = tf.Variable(tf.random.uniform((2, 1)))\n",
    "    b2 = tf.Variable(tf.random.uniform((1, 1)))\n",
    "    return w1,b1,w2,b2\n",
    "\n",
    "\n",
    "def forward_prop(x, w1, b1, w2, b2):\n",
    "    z1 = tf.matmul(x,w1) + b1\n",
    "    h1 = tf.math.sigmoid(z1)\n",
    "    z2 = tf.matmul(h1,w2) + b2\n",
    "    h2 = z2\n",
    "    return h2\n",
    "```"
   ]
  },
  {
   "cell_type": "code",
   "execution_count": 10,
   "id": "867ac40d-01c2-4f93-8977-1a3a1b37b320",
   "metadata": {
    "id": "867ac40d-01c2-4f93-8977-1a3a1b37b320"
   },
   "outputs": [],
   "source": [
    "model.compile(\n",
    "    optimizer=keras.optimizers.SGD(), loss=\"mean_squared_error\"\n",
    ")"
   ]
  },
  {
   "cell_type": "markdown",
   "id": "78a51db7-4b84-4338-9745-ece25b503892",
   "metadata": {
    "id": "78a51db7-4b84-4338-9745-ece25b503892"
   },
   "source": [
    "```python\n",
    "def train(x, y, w1, b1, w2, b2):\n",
    "    y_true = y\n",
    "    with tf.GradientTape() as g:\n",
    "        y_pred = forward_prop(x, w1, b1, w2, b2)\n",
    "\n",
    "        # loss\n",
    "        loss = 0.5*(y_true - y_pred)** 2\n",
    "    \n",
    "    #Gradient calculation  \n",
    "    print(\"**************************************************\")\n",
    "    print(\"GRADIENTS\")\n",
    "    print(\"**************************************************\")\n",
    "    gw1, gb1, gw2, gb2 = g.gradient(loss, [w1, b1, w2, b2])\n",
    "    print(\" the gradient for 1st layer weights are:\\n\",gw1.numpy())\n",
    "    print(\"--------------------------------------------------\")\n",
    "    print(\" the gradient for 2nd layer weights are:\\n\",gw2.numpy())\n",
    "    print(\"--------------------------------------------------\")\n",
    "    print(\" the gradient for 1st layer bias are:\\n\",gb1.numpy())\n",
    "    print(\"--------------------------------------------------\")\n",
    "    print(\" the gradient for 2nd layer bias are:\\n\",gb2.numpy())\n",
    "    print(\"--------------------------------------------------\")\n",
    "\n",
    "    # Gradient descent:\n",
    "    lr=0.2\n",
    "    w1.assign_sub(lr*gw1)\n",
    "    b1.assign_sub(lr*gb1)\n",
    "    w2.assign_sub(lr*gw2)\n",
    "    b2.assign_sub(lr*gb2)\n",
    "    print(\"**************************************************\")\n",
    "    print(\"NEW UPDATES\")\n",
    "    print(\"**************************************************\")\n",
    "    print(\" the updated 1st layer weights are:\\n\",w1.numpy())\n",
    "    print(\"--------------------------------------------------\")\n",
    "    print(\" the updated 2nd layer weights are:\\n\",w2.numpy())\n",
    "    print(\"--------------------------------------------------\")\n",
    "    print(\" the updated 1st layer bias are:\\n\",b1.numpy())\n",
    "    print(\"--------------------------------------------------\")\n",
    "    print(\" the updated 2nd layer bias are:\\n\",b2.numpy())\n",
    "\n",
    "\n",
    "    return w1, b1, w2, b2,loss\n",
    "\n",
    "```"
   ]
  },
  {
   "cell_type": "code",
   "execution_count": 11,
   "id": "72ab0367-85da-46b9-bce9-4da2c72dfaa7",
   "metadata": {
    "colab": {
     "base_uri": "https://localhost:8080/"
    },
    "id": "72ab0367-85da-46b9-bce9-4da2c72dfaa7",
    "outputId": "20427cc4-a3d2-48fe-9e5e-aba8546b2cb9"
   },
   "outputs": [
    {
     "name": "stdout",
     "output_type": "stream",
     "text": [
      "Epoch 1/10\n",
      "\u001b[1m16/16\u001b[0m \u001b[32m━━━━━━━━━━━━━━━━━━━━\u001b[0m\u001b[37m\u001b[0m \u001b[1m0s\u001b[0m 2ms/step - loss: 139.9492  \n",
      "Epoch 2/10\n",
      "\u001b[1m16/16\u001b[0m \u001b[32m━━━━━━━━━━━━━━━━━━━━\u001b[0m\u001b[37m\u001b[0m \u001b[1m0s\u001b[0m 2ms/step - loss: 42.5699 \n",
      "Epoch 3/10\n",
      "\u001b[1m16/16\u001b[0m \u001b[32m━━━━━━━━━━━━━━━━━━━━\u001b[0m\u001b[37m\u001b[0m \u001b[1m0s\u001b[0m 1ms/step - loss: 8.7756  \n",
      "Epoch 4/10\n",
      "\u001b[1m16/16\u001b[0m \u001b[32m━━━━━━━━━━━━━━━━━━━━\u001b[0m\u001b[37m\u001b[0m \u001b[1m0s\u001b[0m 1ms/step - loss: 1.5978 \n",
      "Epoch 5/10\n",
      "\u001b[1m16/16\u001b[0m \u001b[32m━━━━━━━━━━━━━━━━━━━━\u001b[0m\u001b[37m\u001b[0m \u001b[1m0s\u001b[0m 1ms/step - loss: 0.4069 \n",
      "Epoch 6/10\n",
      "\u001b[1m16/16\u001b[0m \u001b[32m━━━━━━━━━━━━━━━━━━━━\u001b[0m\u001b[37m\u001b[0m \u001b[1m0s\u001b[0m 1ms/step - loss: 0.1959 \n",
      "Epoch 7/10\n",
      "\u001b[1m16/16\u001b[0m \u001b[32m━━━━━━━━━━━━━━━━━━━━\u001b[0m\u001b[37m\u001b[0m \u001b[1m0s\u001b[0m 1ms/step - loss: 0.1722 \n",
      "Epoch 8/10\n",
      "\u001b[1m16/16\u001b[0m \u001b[32m━━━━━━━━━━━━━━━━━━━━\u001b[0m\u001b[37m\u001b[0m \u001b[1m0s\u001b[0m 1ms/step - loss: 0.1479 \n",
      "Epoch 9/10\n",
      "\u001b[1m16/16\u001b[0m \u001b[32m━━━━━━━━━━━━━━━━━━━━\u001b[0m\u001b[37m\u001b[0m \u001b[1m0s\u001b[0m 2ms/step - loss: 0.1562 \n",
      "Epoch 10/10\n",
      "\u001b[1m16/16\u001b[0m \u001b[32m━━━━━━━━━━━━━━━━━━━━\u001b[0m\u001b[37m\u001b[0m \u001b[1m0s\u001b[0m 1ms/step - loss: 0.1503 \n"
     ]
    },
    {
     "data": {
      "text/plain": [
       "<keras.src.callbacks.history.History at 0x7edde0c17f70>"
      ]
     },
     "execution_count": 11,
     "metadata": {},
     "output_type": "execute_result"
    }
   ],
   "source": [
    "model.fit(X,Y.values,epochs=10,batch_size=32)"
   ]
  },
  {
   "cell_type": "code",
   "execution_count": 12,
   "id": "ac6189a0-f5a7-48e3-9bbd-03f219c6ab2c",
   "metadata": {
    "colab": {
     "base_uri": "https://localhost:8080/"
    },
    "id": "ac6189a0-f5a7-48e3-9bbd-03f219c6ab2c",
    "outputId": "26d469e4-e1fd-483f-fb14-7fc77408b745"
   },
   "outputs": [
    {
     "name": "stdout",
     "output_type": "stream",
     "text": [
      "\u001b[1m16/16\u001b[0m \u001b[32m━━━━━━━━━━━━━━━━━━━━\u001b[0m\u001b[37m\u001b[0m \u001b[1m0s\u001b[0m 5ms/step\n"
     ]
    },
    {
     "data": {
      "text/plain": [
       "array([12.834526 , 13.51856  , 13.098537 , 13.125709 , 12.976137 ,\n",
       "       12.721556 , 12.928034 , 13.30406  , 13.273609 , 12.7550335,\n",
       "       13.007362 , 13.375124 , 13.2420635, 12.704786 , 13.253771 ,\n",
       "       12.763072 , 12.944794 , 13.432968 , 12.849421 , 12.752611 ,\n",
       "       13.212221 , 12.715784 , 13.024591 , 13.311159 , 12.799126 ,\n",
       "       13.159349 , 13.251703 , 13.098712 , 13.214884 , 13.323465 ,\n",
       "       12.777185 , 13.355599 , 12.915709 , 13.342239 , 13.562759 ,\n",
       "       13.472897 , 12.682518 , 13.066399 , 13.110291 , 13.261192 ,\n",
       "       12.949379 , 12.732679 , 12.707045 , 13.033098 , 12.870693 ,\n",
       "       12.742088 , 13.114172 , 13.098537 , 12.799193 , 13.4876   ,\n",
       "       13.30406  , 13.40292  , 13.353296 , 13.045722 , 12.914663 ,\n",
       "       12.966229 , 13.094217 , 13.521492 , 12.8245125, 13.032131 ,\n",
       "       13.4876   , 13.345345 , 13.311159 , 13.3064   , 13.375124 ,\n",
       "       12.731144 , 12.980978 , 12.661289 , 13.309525 , 13.198507 ,\n",
       "       13.236948 , 13.388638 , 13.134031 , 13.08662  , 12.829527 ,\n",
       "       12.895702 , 13.085173 , 13.311159 , 13.062252 , 13.2917385,\n",
       "       13.000614 , 13.575304 , 13.281513 , 13.045722 , 13.159763 ,\n",
       "       13.179359 , 12.840689 , 12.902733 , 12.951521 , 12.866461 ,\n",
       "       13.361637 , 13.184515 , 13.056683 , 13.248507 , 12.940191 ,\n",
       "       13.179098 , 12.994251 , 13.327148 , 12.869047 , 13.614248 ,\n",
       "       13.452799 , 13.1295185, 12.829527 , 13.172385 , 12.706307 ,\n",
       "       13.371912 , 13.038893 , 13.684706 , 12.702173 , 12.594752 ,\n",
       "       12.681679 , 13.146978 , 12.68315  , 13.089605 , 13.010286 ,\n",
       "       12.273848 , 13.208818 , 12.687456 , 13.365379 , 12.989845 ,\n",
       "       12.990873 , 12.888399 , 14.09844  , 13.078587 , 13.078587 ,\n",
       "       12.869047 , 12.732679 , 12.840689 , 13.0945835, 13.371912 ,\n",
       "       13.472897 , 12.93557  , 12.826538 , 13.207972 , 13.079016 ,\n",
       "       13.142679 , 13.045722 , 13.010286 , 13.0415325, 13.201202 ,\n",
       "       13.102472 , 12.849352 , 13.510204 , 13.695267 , 12.945253 ,\n",
       "       12.967543 , 12.868071 , 13.432167 , 13.713543 , 13.018112 ,\n",
       "       13.205246 , 12.710129 , 12.823147 , 12.839508 , 13.076057 ,\n",
       "       12.907476 , 13.125709 , 12.791756 , 12.642399 , 12.809657 ,\n",
       "       12.949379 , 13.057615 , 12.629787 , 12.972038 , 13.502802 ,\n",
       "       12.951244 , 12.7550335, 12.731144 , 12.68315  , 12.794081 ,\n",
       "       13.317795 , 13.138364 , 13.338856 , 12.980978 , 12.976517 ,\n",
       "       13.066399 , 13.005459 , 12.869047 , 12.743881 , 13.282747 ,\n",
       "       12.661289 , 12.879103 , 13.155945 , 12.930803 , 13.205246 ,\n",
       "       13.430072 , 13.034167 , 13.066399 , 12.925941 , 13.585409 ,\n",
       "       12.873911 , 12.916912 , 13.173836 , 13.531639 , 12.972038 ,\n",
       "       13.0415325, 13.005459 , 13.125309 , 13.40934  , 12.819481 ,\n",
       "       13.612083 , 13.589365 , 13.307354 , 13.253771 , 13.416702 ,\n",
       "       13.042462 , 13.458323 , 13.293277 , 12.778646 , 13.314684 ,\n",
       "       13.505285 , 12.715519 , 12.682915 , 13.08662  , 12.745396 ,\n",
       "       12.99864  , 12.873911 , 13.717066 , 13.118036 , 12.853657 ,\n",
       "       13.198507 , 12.543125 , 12.902733 , 13.2452545, 13.348011 ,\n",
       "       13.549524 , 12.799193 , 13.713543 , 13.41235  , 12.747358 ,\n",
       "       12.832142 , 12.650276 , 13.19714  , 13.700342 , 12.788952 ,\n",
       "       12.930931 , 12.958496 , 12.715519 , 13.0623   , 13.300585 ,\n",
       "       13.345345 , 12.703395 , 13.188961 , 12.863607 , 13.1519985,\n",
       "       13.028854 , 12.994251 , 13.003813 , 13.602041 , 12.920834 ,\n",
       "       12.864165 , 13.074541 , 13.918753 , 12.796293 , 13.355917 ,\n",
       "       12.661289 , 12.949379 , 13.263737 , 13.0945835, 13.248507 ,\n",
       "       12.833195 , 13.229131 , 13.472897 , 13.282747 , 12.782625 ,\n",
       "       12.692379 , 13.024857 , 13.033098 , 12.928034 , 13.110291 ,\n",
       "       13.48631  , 13.283594 , 13.641895 , 13.146978 , 12.826243 ,\n",
       "       13.282333 , 12.951244 , 13.195036 , 13.137083 , 13.222322 ,\n",
       "       12.963028 , 12.66259  , 13.035592 , 12.972038 , 13.355471 ,\n",
       "       13.414438 , 13.102472 , 12.869047 , 12.677706 , 12.692379 ,\n",
       "       12.735912 , 13.210521 , 13.089704 , 12.958496 , 12.912203 ,\n",
       "       12.834526 , 13.070478 , 13.3064   , 12.796293 , 12.854353 ,\n",
       "       12.976517 , 13.291193 , 13.071473 , 13.028854 , 12.98542  ,\n",
       "       13.058182 , 13.103189 , 12.738286 , 12.794081 , 13.671689 ,\n",
       "       13.6157055, 12.84503  , 13.284534 , 13.019762 , 12.961218 ,\n",
       "       12.692379 , 13.000193 , 13.159349 , 13.354099 , 12.868887 ,\n",
       "       12.989845 , 13.244692 , 13.307354 , 12.788952 , 13.015097 ,\n",
       "       13.285999 , 12.768797 , 13.110291 , 12.642399 , 12.9319935,\n",
       "       13.110472 , 13.066872 , 12.910568 , 13.202902 , 12.99864  ,\n",
       "       13.102472 , 13.151258 , 13.034167 , 13.512644 , 13.12092  ,\n",
       "       12.859268 , 12.805317 , 12.907476 , 13.21727  , 13.034996 ,\n",
       "       13.212221 , 13.0945835, 13.082613 , 13.12092  , 12.895702 ,\n",
       "       12.759489 , 13.482414 , 13.005459 , 12.787199 , 12.925941 ,\n",
       "       13.118036 , 13.334721 , 12.879103 , 13.134031 , 13.273609 ,\n",
       "       13.405251 , 13.134031 , 12.916912 , 12.628092 , 12.757849 ,\n",
       "       12.819481 , 13.206044 , 13.024591 , 12.8245125, 13.209272 ,\n",
       "       12.783808 , 12.794081 , 13.003923 , 13.600937 , 12.930931 ,\n",
       "       13.003813 , 12.893194 , 12.859268 , 13.334529 , 12.953947 ,\n",
       "       12.96125  , 13.131416 , 12.869047 , 12.82756  , 12.711899 ,\n",
       "       13.235552 , 12.787199 , 12.768797 , 13.6692505, 12.976517 ,\n",
       "       13.599039 , 13.332037 , 12.879398 , 12.704461 , 13.066399 ,\n",
       "       12.759489 , 13.288759 , 13.587393 , 13.263737 , 12.859268 ,\n",
       "       13.125309 , 13.21328  , 12.687456 , 12.826243 , 13.42341  ,\n",
       "       12.642399 , 12.859268 , 12.885996 , 13.10121  , 13.162998 ,\n",
       "       12.688581 , 12.912203 , 12.990873 , 12.869047 , 13.581406 ,\n",
       "       13.094217 , 13.0945835, 12.742088 , 13.814686 , 13.005459 ,\n",
       "       13.08199  , 13.46619  , 13.348953 , 12.84503  , 13.430072 ,\n",
       "       12.873911 , 13.19714  , 12.971191 , 12.98542  , 12.864165 ,\n",
       "       13.285999 , 13.005459 , 13.066872 , 12.840502 , 13.024591 ,\n",
       "       12.973209 , 12.955372 , 12.976137 , 12.869047 , 12.844473 ,\n",
       "       12.773472 , 13.345606 , 13.593271 , 13.1555195, 13.528402 ,\n",
       "       12.727058 , 13.418323 , 12.672247 , 12.971191 , 13.037325 ,\n",
       "       13.125709 , 12.99864  , 13.813108 , 12.814434 , 13.184845 ,\n",
       "       12.84503  , 13.146978 , 13.311159 , 13.348953 , 12.787199 ,\n",
       "       12.834526 , 13.543058 , 13.938034 , 12.654688 , 13.315327 ,\n",
       "       13.173836 , 13.2330475, 12.976137 , 12.839508 , 13.080624 ,\n",
       "       12.849421 , 13.789308 , 13.345606 , 13.1295185, 13.485016 ,\n",
       "       12.879103 , 13.011698 , 12.7268715, 12.940191 , 13.312153 ,\n",
       "       13.728138 , 12.874907 , 13.51856  , 13.18804  , 13.240829 ,\n",
       "       12.735912 , 13.394037 , 13.062252 , 13.524622 , 13.055084 ,\n",
       "       13.198507 , 12.868887 , 13.405251 , 12.650276 , 13.41235  ,\n",
       "       13.720543 , 12.849421 , 13.102472 , 12.677706 ], dtype=float32)"
      ]
     },
     "execution_count": 12,
     "metadata": {},
     "output_type": "execute_result"
    }
   ],
   "source": [
    "model.predict(X)[:,0]"
   ]
  }
 ],
 "metadata": {
  "colab": {
   "provenance": []
  },
  "kernelspec": {
   "display_name": "Python 3 (ipykernel)",
   "language": "python",
   "name": "python3"
  },
  "language_info": {
   "codemirror_mode": {
    "name": "ipython",
    "version": 3
   },
   "file_extension": ".py",
   "mimetype": "text/x-python",
   "name": "python",
   "nbconvert_exporter": "python",
   "pygments_lexer": "ipython3",
   "version": "3.12.7"
  }
 },
 "nbformat": 4,
 "nbformat_minor": 5
}
